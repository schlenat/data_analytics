{
 "cells": [
  {
   "cell_type": "markdown",
   "metadata": {},
   "source": [
    "## Exercises large classes (Week_03)"
   ]
  },
  {
   "cell_type": "markdown",
   "metadata": {},
   "source": [
    "## 1. Working with strings"
   ]
  },
  {
   "cell_type": "markdown",
   "metadata": {},
   "source": [
    "### a) Import car dataset"
   ]
  },
  {
   "cell_type": "code",
   "execution_count": 4,
   "metadata": {},
   "outputs": [
    {
     "data": {
      "text/html": [
       "<div>\n",
       "<style scoped>\n",
       "    .dataframe tbody tr th:only-of-type {\n",
       "        vertical-align: middle;\n",
       "    }\n",
       "\n",
       "    .dataframe tbody tr th {\n",
       "        vertical-align: top;\n",
       "    }\n",
       "\n",
       "    .dataframe thead th {\n",
       "        text-align: right;\n",
       "    }\n",
       "</style>\n",
       "<table border=\"1\" class=\"dataframe\">\n",
       "  <thead>\n",
       "    <tr style=\"text-align: right;\">\n",
       "      <th></th>\n",
       "      <th>offer_id</th>\n",
       "      <th>type</th>\n",
       "      <th>price_raw</th>\n",
       "      <th>hp_raw</th>\n",
       "      <th>init_regist</th>\n",
       "      <th>mileage_raw</th>\n",
       "      <th>fuel_type</th>\n",
       "      <th>transmission</th>\n",
       "      <th>description</th>\n",
       "    </tr>\n",
       "  </thead>\n",
       "  <tbody>\n",
       "    <tr>\n",
       "      <th>0</th>\n",
       "      <td>7324420</td>\n",
       "      <td>AUDI A5 Sportback 3.0 TDI quattro S-tronic (Li...</td>\n",
       "      <td>CHF 22'500.–</td>\n",
       "      <td>245 PS</td>\n",
       "      <td>10.2014</td>\n",
       "      <td>75'000 km</td>\n",
       "      <td>Diesel</td>\n",
       "      <td>Automatisiertes Schaltgetriebe</td>\n",
       "      <td>Hubraum: 2'967 cm3 Zylinder: 6 Anhängelast geb...</td>\n",
       "    </tr>\n",
       "    <tr>\n",
       "      <th>1</th>\n",
       "      <td>7512768</td>\n",
       "      <td>MERCEDES-BENZ SLK 200 7G-Tronic (Cabriolet)</td>\n",
       "      <td>CHF 23'749.–</td>\n",
       "      <td>184 PS</td>\n",
       "      <td>6.2013</td>\n",
       "      <td>46'655 km</td>\n",
       "      <td>Benzin</td>\n",
       "      <td>Automat sequentiell</td>\n",
       "      <td>Hubraum: 1'796 cm3 Zylinder: 4 Letzte Prüfung:...</td>\n",
       "    </tr>\n",
       "    <tr>\n",
       "      <th>2</th>\n",
       "      <td>7512034</td>\n",
       "      <td>MERCEDES-BENZ C 350 Avantgarde 4Matic 7G-Troni...</td>\n",
       "      <td>CHF 18'500.–</td>\n",
       "      <td>306 PS</td>\n",
       "      <td>6.2011</td>\n",
       "      <td>138'955 km</td>\n",
       "      <td>Benzin</td>\n",
       "      <td>Automat sequentiell</td>\n",
       "      <td>Hubraum: 3'498 cm3 Zylinder: 6 Anhängelast geb...</td>\n",
       "    </tr>\n",
       "    <tr>\n",
       "      <th>3</th>\n",
       "      <td>7512728</td>\n",
       "      <td>MERCEDES-BENZ A 45 AMG 4Matic Speedshift 7G-DC...</td>\n",
       "      <td>CHF 36'000.–</td>\n",
       "      <td>360 PS</td>\n",
       "      <td>8.2015</td>\n",
       "      <td>43'000 km</td>\n",
       "      <td>Benzin</td>\n",
       "      <td>Automatisiertes Schaltgetriebe</td>\n",
       "      <td>Hubraum: 1'991 cm3 Zylinder: 4 Letzte Prüfung:...</td>\n",
       "    </tr>\n",
       "    <tr>\n",
       "      <th>4</th>\n",
       "      <td>7490242</td>\n",
       "      <td>AUDI A5 Sportback 2.0 TFSI Sport quattro S-tro...</td>\n",
       "      <td>CHF 48'500.–</td>\n",
       "      <td>252 PS</td>\n",
       "      <td>9.2018</td>\n",
       "      <td>43'300 km</td>\n",
       "      <td>Benzin</td>\n",
       "      <td>Automatisiertes Schaltgetriebe</td>\n",
       "      <td>Hubraum: 1'984 cm3 Zylinder: 4 Letzte Prüfung:...</td>\n",
       "    </tr>\n",
       "    <tr>\n",
       "      <th>...</th>\n",
       "      <td>...</td>\n",
       "      <td>...</td>\n",
       "      <td>...</td>\n",
       "      <td>...</td>\n",
       "      <td>...</td>\n",
       "      <td>...</td>\n",
       "      <td>...</td>\n",
       "      <td>...</td>\n",
       "      <td>...</td>\n",
       "    </tr>\n",
       "    <tr>\n",
       "      <th>3975</th>\n",
       "      <td>7137137</td>\n",
       "      <td>FERRARI F360 Spider (Cabriolet)</td>\n",
       "      <td>CHF 58'400.–</td>\n",
       "      <td>400 PS</td>\n",
       "      <td>2.2002</td>\n",
       "      <td>78'000 km</td>\n",
       "      <td>Benzin</td>\n",
       "      <td>Automatisiertes Schaltgetriebe</td>\n",
       "      <td>Hubraum: 3'586 cm3 Zylinder: 8 Letzte Prüfung:...</td>\n",
       "    </tr>\n",
       "    <tr>\n",
       "      <th>3976</th>\n",
       "      <td>6758841</td>\n",
       "      <td>MERCEDES-BENZ SL 500 560 SL (Cabriolet)</td>\n",
       "      <td>CHF 15'900.–</td>\n",
       "      <td>232 PS</td>\n",
       "      <td>1.1987</td>\n",
       "      <td>315'000 km</td>\n",
       "      <td>Benzin</td>\n",
       "      <td>Automatik-Getriebe</td>\n",
       "      <td>Hubraum: 5'491 cm3 Zylinder: 8 Letzte Prüfung:...</td>\n",
       "    </tr>\n",
       "    <tr>\n",
       "      <th>3977</th>\n",
       "      <td>7461330</td>\n",
       "      <td>MERCEDES-BENZ CL 63 AMG 7G-Tronic (Coupé)</td>\n",
       "      <td>CHF 42'000.–</td>\n",
       "      <td>525 PS</td>\n",
       "      <td>8.2007</td>\n",
       "      <td>85'000 km</td>\n",
       "      <td>Benzin</td>\n",
       "      <td>Automat sequentiell</td>\n",
       "      <td>Hubraum: 6'209 cm3 Zylinder: 8 Aussenfarbe: sc...</td>\n",
       "    </tr>\n",
       "    <tr>\n",
       "      <th>3978</th>\n",
       "      <td>7005403</td>\n",
       "      <td>BMW 328i Cabrio (Cabriolet)</td>\n",
       "      <td>CHF 9'980.–</td>\n",
       "      <td>193 PS</td>\n",
       "      <td>8.1995</td>\n",
       "      <td>188'920 km</td>\n",
       "      <td>Benzin</td>\n",
       "      <td>Schaltgetriebe manuell</td>\n",
       "      <td>Hubraum: 2'792 cm3 Zylinder: 6 Anhängelast geb...</td>\n",
       "    </tr>\n",
       "    <tr>\n",
       "      <th>3979</th>\n",
       "      <td>7200843</td>\n",
       "      <td>BMW 328i Cabrio Sport (Cabriolet)</td>\n",
       "      <td>CHF 13'500.–</td>\n",
       "      <td>193 PS</td>\n",
       "      <td>4.1999</td>\n",
       "      <td>134'000 km</td>\n",
       "      <td>Benzin</td>\n",
       "      <td>Schaltgetriebe manuell</td>\n",
       "      <td>Hubraum: 2'793 cm3 Zylinder: 6 Anhängelast geb...</td>\n",
       "    </tr>\n",
       "  </tbody>\n",
       "</table>\n",
       "<p>3980 rows × 9 columns</p>\n",
       "</div>"
      ],
      "text/plain": [
       "      offer_id                                               type  \\\n",
       "0      7324420  AUDI A5 Sportback 3.0 TDI quattro S-tronic (Li...   \n",
       "1      7512768        MERCEDES-BENZ SLK 200 7G-Tronic (Cabriolet)   \n",
       "2      7512034  MERCEDES-BENZ C 350 Avantgarde 4Matic 7G-Troni...   \n",
       "3      7512728  MERCEDES-BENZ A 45 AMG 4Matic Speedshift 7G-DC...   \n",
       "4      7490242  AUDI A5 Sportback 2.0 TFSI Sport quattro S-tro...   \n",
       "...        ...                                                ...   \n",
       "3975   7137137                    FERRARI F360 Spider (Cabriolet)   \n",
       "3976   6758841            MERCEDES-BENZ SL 500 560 SL (Cabriolet)   \n",
       "3977   7461330          MERCEDES-BENZ CL 63 AMG 7G-Tronic (Coupé)   \n",
       "3978   7005403                        BMW 328i Cabrio (Cabriolet)   \n",
       "3979   7200843                  BMW 328i Cabrio Sport (Cabriolet)   \n",
       "\n",
       "         price_raw  hp_raw init_regist mileage_raw fuel_type  \\\n",
       "0     CHF 22'500.–  245 PS     10.2014   75'000 km    Diesel   \n",
       "1     CHF 23'749.–  184 PS      6.2013   46'655 km    Benzin   \n",
       "2     CHF 18'500.–  306 PS      6.2011  138'955 km    Benzin   \n",
       "3     CHF 36'000.–  360 PS      8.2015   43'000 km    Benzin   \n",
       "4     CHF 48'500.–  252 PS      9.2018   43'300 km    Benzin   \n",
       "...            ...     ...         ...         ...       ...   \n",
       "3975  CHF 58'400.–  400 PS      2.2002   78'000 km    Benzin   \n",
       "3976  CHF 15'900.–  232 PS      1.1987  315'000 km    Benzin   \n",
       "3977  CHF 42'000.–  525 PS      8.2007   85'000 km    Benzin   \n",
       "3978   CHF 9'980.–  193 PS      8.1995  188'920 km    Benzin   \n",
       "3979  CHF 13'500.–  193 PS      4.1999  134'000 km    Benzin   \n",
       "\n",
       "                        transmission  \\\n",
       "0     Automatisiertes Schaltgetriebe   \n",
       "1                Automat sequentiell   \n",
       "2                Automat sequentiell   \n",
       "3     Automatisiertes Schaltgetriebe   \n",
       "4     Automatisiertes Schaltgetriebe   \n",
       "...                              ...   \n",
       "3975  Automatisiertes Schaltgetriebe   \n",
       "3976              Automatik-Getriebe   \n",
       "3977             Automat sequentiell   \n",
       "3978          Schaltgetriebe manuell   \n",
       "3979          Schaltgetriebe manuell   \n",
       "\n",
       "                                            description  \n",
       "0     Hubraum: 2'967 cm3 Zylinder: 6 Anhängelast geb...  \n",
       "1     Hubraum: 1'796 cm3 Zylinder: 4 Letzte Prüfung:...  \n",
       "2     Hubraum: 3'498 cm3 Zylinder: 6 Anhängelast geb...  \n",
       "3     Hubraum: 1'991 cm3 Zylinder: 4 Letzte Prüfung:...  \n",
       "4     Hubraum: 1'984 cm3 Zylinder: 4 Letzte Prüfung:...  \n",
       "...                                                 ...  \n",
       "3975  Hubraum: 3'586 cm3 Zylinder: 8 Letzte Prüfung:...  \n",
       "3976  Hubraum: 5'491 cm3 Zylinder: 8 Letzte Prüfung:...  \n",
       "3977  Hubraum: 6'209 cm3 Zylinder: 8 Aussenfarbe: sc...  \n",
       "3978  Hubraum: 2'792 cm3 Zylinder: 6 Anhängelast geb...  \n",
       "3979  Hubraum: 2'793 cm3 Zylinder: 6 Anhängelast geb...  \n",
       "\n",
       "[3980 rows x 9 columns]"
      ]
     },
     "execution_count": 4,
     "metadata": {},
     "output_type": "execute_result"
    }
   ],
   "source": [
    "# Iport the necessary libraries\n",
    "import re\n",
    "import numpy as np\n",
    "import pandas as pd\n",
    "import matplotlib.pyplot as plt\n",
    "\n",
    "\n",
    "# Read the data 'cars_autoscout24.csv' into a DataFrame\n",
    "df = pd.read_csv('cars_autoscout24.csv', sep=';', encoding='utf-8')\n",
    "df\n",
    "\n",
    "\n",
    "# Change column names to lowercase\n",
    "df.columns = df.columns.str.lower()\n",
    "df"
   ]
  },
  {
   "cell_type": "markdown",
   "metadata": {},
   "source": [
    "### b) Create a new variable 'str_len' containing the length of each string in the variable 'description'."
   ]
  },
  {
   "cell_type": "code",
   "execution_count": 6,
   "metadata": {},
   "outputs": [
    {
     "data": {
      "text/plain": [
       "(array([  1.,   0.,   0.,   0.,   0.,   0.,   1.,   1.,   0.,   2.,   2.,\n",
       "          7.,   8.,   7.,   4.,  11.,  24.,  31.,  22.,  29.,  37.,  74.,\n",
       "         92., 125.,  72., 109., 155., 194., 272., 177., 105., 188., 369.,\n",
       "        315., 136., 121., 141., 183., 161., 170., 182., 108.,  26.,  56.,\n",
       "        122.,  91.,  28.,   7.,   9.,   5.]),\n",
       " array([ 44.  ,  49.12,  54.24,  59.36,  64.48,  69.6 ,  74.72,  79.84,\n",
       "         84.96,  90.08,  95.2 , 100.32, 105.44, 110.56, 115.68, 120.8 ,\n",
       "        125.92, 131.04, 136.16, 141.28, 146.4 , 151.52, 156.64, 161.76,\n",
       "        166.88, 172.  , 177.12, 182.24, 187.36, 192.48, 197.6 , 202.72,\n",
       "        207.84, 212.96, 218.08, 223.2 , 228.32, 233.44, 238.56, 243.68,\n",
       "        248.8 , 253.92, 259.04, 264.16, 269.28, 274.4 , 279.52, 284.64,\n",
       "        289.76, 294.88, 300.  ]),\n",
       " <BarContainer object of 50 artists>)"
      ]
     },
     "execution_count": 6,
     "metadata": {},
     "output_type": "execute_result"
    },
    {
     "data": {
      "image/png": "[encoded data removed]",
      "text/plain": [
       "<Figure size 640x480 with 1 Axes>"
      ]
     },
     "metadata": {},
     "output_type": "display_data"
    }
   ],
   "source": [
    "# Create a new variable 'str_len' containing the length of each string in the variable 'description'\n",
    "df['str_len'] = df['description'].apply(len)\n",
    "df\n",
    "\n",
    "# Plot a histogram of the variable 'str_len'\n",
    "plt.hist(df['str_len'], bins=50)\n"
   ]
  },
  {
   "cell_type": "markdown",
   "metadata": {},
   "source": [
    "### c) Create a new variable 'description_upper' from 'description' containing only uppercase letters"
   ]
  },
  {
   "cell_type": "code",
   "execution_count": 7,
   "metadata": {},
   "outputs": [],
   "source": [
    "# Create a new variable 'description_upper' from 'description' containing only uppercase letters\n",
    "df['description_upper'] = df['description'].str.upper()\n",
    "df"
   ]
  },
  {
   "cell_type": "markdown",
   "metadata": {},
   "source": [
    "### d) Remove all leading and trailing empty spaces in 'description_upper'"
   ]
  },
  {
   "cell_type": "code",
   "execution_count": 10,
   "metadata": {},
   "outputs": [],
   "source": [
    "# Remove all leading and trailing empty spaces in 'description_upper'\n",
    "def extract_numerical_value(price):\n",
    "\n",
    "    match = re.search(r'\\d+', price)\n",
    "    if match:\n",
    "        return float(match.group().replace('.', ''))\n",
    "    else:\n",
    "        return None\n",
    "    \n",
    "    df['price'] = df['price_raw'].apply(extract_numerical_value)\n",
    "    df.head()"
   ]
  },
  {
   "cell_type": "markdown",
   "metadata": {},
   "source": [
    "## 2.) Working with Regular expressions (regex)"
   ]
  },
  {
   "cell_type": "markdown",
   "metadata": {},
   "source": [
    "### a) Extract the price as numerical value"
   ]
  },
  {
   "cell_type": "code",
   "execution_count": 12,
   "metadata": {},
   "outputs": [
    {
     "ename": "SyntaxError",
     "evalue": "unterminated string literal (detected at line 12) (2895091010.py, line 12)",
     "output_type": "error",
     "traceback": [
      "\u001b[0;36m  Cell \u001b[0;32mIn[12], line 12\u001b[0;36m\u001b[0m\n\u001b[0;31m    df['original_price'] = df['description_upper].apply(original_price)\u001b[0m\n\u001b[0m                              ^\u001b[0m\n\u001b[0;31mSyntaxError\u001b[0m\u001b[0;31m:\u001b[0m unterminated string literal (detected at line 12)\n"
     ]
    }
   ],
   "source": [
    "# Function to extract numerical values from the price column\n",
    "def extract_numerical_value(price):\n",
    "    # Use regex to extract numerical values\n",
    "    match = re.search(r\"(\\d+\\'\\d+)\", price)\n",
    "    if match:\n",
    "        # Remove the thousands separator and convert to integer\n",
    "        return float(match.group().replace(\"'\", ''))\n",
    "    else:\n",
    "        return None\n",
    "\n",
    "# Apply the function\n"
   ]
  },
  {
   "cell_type": "markdown",
   "metadata": {},
   "source": [
    "### b) Extract the original price (germ.: Neupreis) from 'description_upper'"
   ]
  },
  {
   "cell_type": "code",
   "execution_count": 13,
   "metadata": {},
   "outputs": [
    {
     "ename": "SyntaxError",
     "evalue": "unterminated string literal (detected at line 17) (2186648234.py, line 17)",
     "output_type": "error",
     "traceback": [
      "\u001b[0;36m  Cell \u001b[0;32mIn[13], line 17\u001b[0;36m\u001b[0m\n\u001b[0;31m    df['original_price'] = df['description_upper].apply(original_price)\u001b[0m\n\u001b[0m                              ^\u001b[0m\n\u001b[0;31mSyntaxError\u001b[0m\u001b[0;31m:\u001b[0m unterminated string literal (detected at line 17)\n"
     ]
    }
   ],
   "source": [
    "# Function to extract the original price\n",
    "def extract_original_price(description):\n",
    "    # Use regex to extract numerical values\n",
    "    # Extract the numeric value of Neupreis\n",
    "    neupreis_pattern = r'NEUPREIS:\\s*CHF\\s*([\\d\\'.]+)'\n",
    "\n",
    "    # Extract the numeric value of Neupreis\n",
    "    match = re.search(neupreis_pattern, description)\n",
    "\n",
    "    if match:\n",
    "        # Remove thousands separator (')\n",
    "        return float(match.group(1).replace(\"'\", \"\"))\n",
    "    else:\n",
    "        None\n",
    "\n",
    "# Apply the function\n",
    "df['original_price'] = df['description_upper'].apply(extract_original_price)\n",
    "df.head()\n"
   ]
  },
  {
   "cell_type": "markdown",
   "metadata": {},
   "source": [
    "### c) Create a new binary variable 'occassion' with a value of '1' if Fahrzeugart Occasion and a value of '0' otherwise"
   ]
  },
  {
   "cell_type": "code",
   "execution_count": 19,
   "metadata": {},
   "outputs": [],
   "source": [
    "# Create a new column with the number of occassion cars\n",
    "\n",
    "\n",
    "\n",
    "# Number of occasion cars\n",
    "\n",
    "\n",
    "\n",
    "# Show the data"
   ]
  },
  {
   "cell_type": "markdown",
   "metadata": {},
   "source": [
    "## 3.) Working with pivot tables"
   ]
  },
  {
   "cell_type": "markdown",
   "metadata": {},
   "source": [
    "### a) Create a subset of the data frame with all missing and duplicated values removed "
   ]
  },
  {
   "cell_type": "code",
   "execution_count": 20,
   "metadata": {},
   "outputs": [],
   "source": [
    "# Create a subset of the data without missing values and duplicates\n",
    "\n",
    "\n",
    "\n",
    "# Check for missing values\n",
    "\n",
    "\n",
    "\n",
    "# Check for duplicated values\n"
   ]
  },
  {
   "cell_type": "markdown",
   "metadata": {},
   "source": [
    "###  b) Create a pivot table"
   ]
  },
  {
   "cell_type": "code",
   "execution_count": 21,
   "metadata": {},
   "outputs": [],
   "source": [
    "# Create a pivot table with:\n",
    "# - 'Occassion' as index variable,\n",
    "# - 'price_numeric' and 'price_original' as values\n",
    "# - np.mean (i.e. mean from the numpy library) as the aggregation function\n",
    "\n",
    "\n",
    "# Create a pivot table\n",
    "\n",
    "\n",
    "\n",
    "# Display the pivot table\n"
   ]
  }
 ],
 "metadata": {
  "kernelspec": {
   "display_name": "Python 3",
   "language": "python",
   "name": "python3"
  },
  "language_info": {
   "codemirror_mode": {
    "name": "ipython",
    "version": 3
   },
   "file_extension": ".py",
   "mimetype": "text/x-python",
   "name": "python",
   "nbconvert_exporter": "python",
   "pygments_lexer": "ipython3",
   "version": "3.11.10"
  },
  "orig_nbformat": 4
 },
 "nbformat": 4,
 "nbformat_minor": 2
}
