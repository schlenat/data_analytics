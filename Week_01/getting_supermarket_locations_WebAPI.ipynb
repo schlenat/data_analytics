{
 "cells": [
  {
   "cell_type": "markdown",
   "id": "7e6d1072",
   "metadata": {},
   "source": [
    "# Getting all available Swiss supermarkets using the overpass Web API"
   ]
  },
  {
   "cell_type": "markdown",
   "id": "a02dcf9d",
   "metadata": {},
   "source": [
    "## Libraries and settings"
   ]
  },
  {
   "cell_type": "code",
   "execution_count": null,
   "id": "0710b184",
   "metadata": {},
   "outputs": [],
   "source": [
    "# Libraries\n",
    "import os\n",
    "import requests\n",
    "import json\n",
    "import folium\n",
    "from pandas import json_normalize\n",
    "\n",
    "# Ignore warnings\n",
    "import warnings\n",
    "warnings.filterwarnings(\"ignore\")\n",
    "\n",
    "# Show current working directory\n",
    "print(os.getcwd())"
   ]
  },
  {
   "cell_type": "markdown",
   "id": "607822a3",
   "metadata": {},
   "source": [
    "## Overpass turbo query to get all available supermarkets in Switzerland"
   ]
  },
  {
   "cell_type": "code",
   "execution_count": null,
   "id": "fe09d40b",
   "metadata": {},
   "outputs": [],
   "source": [
    "# Overpass API URL\n",
    "url = 'http://overpass-api.de/api/interpreter'\n",
    "\n",
    "# Overpass turbo query\n",
    "query = f\"\"\"\n",
    "        [out:json];\n",
    "        area[\"ISO3166-1\"=\"CH\"][admin_level=2];\n",
    "        node [\"shop\"=\"supermarket\"](area);\n",
    "        out;\"\"\"\n",
    "\n",
    "# Web API request\n",
    "r = requests.get(url, params={'data': query})\n",
    "data = r.json()['elements']\n",
    "\n",
    "# Save data to file\n",
    "with open('supermarkets.json', 'w') as json_file:\n",
    "    json.dump(data, json_file)\n",
    "\n",
    "# Store data in data frame\n",
    "df = json_normalize(data)\n",
    "\n",
    "# Number of rows and columns\n",
    "print(df.shape)\n",
    "\n",
    "# First rows\n",
    "df.head()"
   ]
  },
  {
   "cell_type": "markdown",
   "id": "a7ea9b1e",
   "metadata": {},
   "source": [
    "## Plot supermarkets on map"
   ]
  },
  {
   "cell_type": "code",
   "execution_count": null,
   "id": "49e8cc9c",
   "metadata": {
    "scrolled": true
   },
   "outputs": [],
   "source": [
    "# Subset of supermarkets by brand\n",
    "locations = df[[\"lat\", \"lon\", \"tags.brand\", \"tags.shop\"]].loc[df[\"tags.brand\"].isin(['Migros', 'Coop'])]\n",
    "print(locations.head(5))\n",
    "\n",
    "# Create map\n",
    "map = folium.Map(location=[locations.lat.mean(), \n",
    "                           locations.lon.mean()], \n",
    "                 zoom_start=8, \n",
    "                 control_scale=True)\n",
    "\n",
    "# Add maker symbols\n",
    "for index, location_info in locations.iterrows():\n",
    "    folium.Marker([location_info[\"lat\"], \n",
    "                   location_info[\"lon\"]], \n",
    "                  popup=location_info[\"tags.brand\"]).add_to(map)\n",
    "\n",
    "# Plot map\n",
    "map"
   ]
  },
  {
   "cell_type": "markdown",
   "id": "bcfb1f34",
   "metadata": {},
   "source": [
    "### Jupyter notebook --footer info-- (please always provide this at the end of each submitted notebook)"
   ]
  },
  {
   "cell_type": "code",
   "execution_count": null,
   "id": "22021916",
   "metadata": {},
   "outputs": [],
   "source": [
    "import os\n",
    "import platform\n",
    "import socket\n",
    "from platform import python_version\n",
    "from datetime import datetime\n",
    "\n",
    "print('-----------------------------------')\n",
    "print(os.name.upper())\n",
    "print(platform.system(), '|', platform.release())\n",
    "print('Datetime:', datetime.now().strftime(\"%Y-%m-%d %H:%M:%S\"))\n",
    "print('Python Version:', python_version())\n",
    "print('-----------------------------------')"
   ]
  }
 ],
 "metadata": {
  "kernelspec": {
   "display_name": "Python 3 (ipykernel)",
   "language": "python",
   "name": "python3"
  },
  "language_info": {
   "codemirror_mode": {
    "name": "ipython",
    "version": 3
   },
   "file_extension": ".py",
   "mimetype": "text/x-python",
   "name": "python",
   "nbconvert_exporter": "python",
   "pygments_lexer": "ipython3",
   "version": "3.11.10"
  }
 },
 "nbformat": 4,
 "nbformat_minor": 5
}
