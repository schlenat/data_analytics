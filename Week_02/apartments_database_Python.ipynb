{
 "cells": [
  {
   "cell_type": "markdown",
   "id": "spectacular-oxford",
   "metadata": {},
   "source": [
    "# Writing data to and reading data from a Database using Python"
   ]
  },
  {
   "cell_type": "markdown",
   "id": "14d7fbf5",
   "metadata": {},
   "source": [
    "## Libraries and settings"
   ]
  },
  {
   "cell_type": "code",
   "execution_count": 1,
   "id": "6b7c9af0",
   "metadata": {},
   "outputs": [
    {
     "name": "stdout",
     "output_type": "stream",
     "text": [
      "/workspaces/data_analytics/Week_02\n"
     ]
    }
   ],
   "source": [
    "# Libraries\n",
    "import os\n",
    "import sqlite3\n",
    "import fnmatch\n",
    "import numpy as np\n",
    "import pandas as pd\n",
    "import matplotlib.pyplot as plt\n",
    "\n",
    "# Ignore warnings\n",
    "import warnings\n",
    "warnings.filterwarnings(\"ignore\")\n",
    "\n",
    "# Function to close a sqlite db-connection\n",
    "def check_conn(conn):\n",
    "     try:\n",
    "        conn.cursor()\n",
    "        return True\n",
    "     except Exception as ex:\n",
    "        return False\n",
    "\n",
    "# Get current working directory\n",
    "print(os.getcwd())"
   ]
  },
  {
   "cell_type": "markdown",
   "id": "0b880d4d",
   "metadata": {},
   "source": [
    "## Create sqlite data base"
   ]
  },
  {
   "cell_type": "code",
   "execution_count": 2,
   "id": "240f7517",
   "metadata": {},
   "outputs": [
    {
     "name": "stdout",
     "output_type": "stream",
     "text": [
      "apartment_database.db\n"
     ]
    }
   ],
   "source": [
    "# Create data base\n",
    "conn = sqlite3.connect('apartment_database.db') \n",
    "cursor = conn.cursor()\n",
    "\n",
    "# Show dbs in the directory\n",
    "flist = fnmatch.filter(os.listdir('.'), '*.db')\n",
    "for i in flist:\n",
    "    print(i)"
   ]
  },
  {
   "cell_type": "markdown",
   "id": "aff97772",
   "metadata": {},
   "source": [
    "## Create SQL-table in the database"
   ]
  },
  {
   "cell_type": "code",
   "execution_count": 3,
   "id": "a3d83cba",
   "metadata": {},
   "outputs": [],
   "source": [
    "cursor.execute('''CREATE TABLE IF NOT EXISTS apartments_table (OrderId VARCHAR(50),\n",
    "                                                               Adress VARCHAR(200),\n",
    "                                                               Rooms DECIMAL(8,2),\n",
    "                                                               Area INT(8),\n",
    "                                                               Price DECIMAL(8,2))''')\n",
    "# Confirm changes to the table\n",
    "conn.commit()"
   ]
  },
  {
   "cell_type": "markdown",
   "id": "a87c8dee",
   "metadata": {},
   "source": [
    "## Read data from file to data frame"
   ]
  },
  {
   "cell_type": "code",
   "execution_count": 4,
   "id": "34300bd6",
   "metadata": {},
   "outputs": [
    {
     "name": "stdout",
     "output_type": "stream",
     "text": [
      "(1008, 5)\n"
     ]
    },
    {
     "data": {
      "text/html": [
       "<div>\n",
       "<style scoped>\n",
       "    .dataframe tbody tr th:only-of-type {\n",
       "        vertical-align: middle;\n",
       "    }\n",
       "\n",
       "    .dataframe tbody tr th {\n",
       "        vertical-align: top;\n",
       "    }\n",
       "\n",
       "    .dataframe thead th {\n",
       "        text-align: right;\n",
       "    }\n",
       "</style>\n",
       "<table border=\"1\" class=\"dataframe\">\n",
       "  <thead>\n",
       "    <tr style=\"text-align: right;\">\n",
       "      <th></th>\n",
       "      <th>web-scraper-order</th>\n",
       "      <th>address_raw</th>\n",
       "      <th>rooms</th>\n",
       "      <th>area</th>\n",
       "      <th>price</th>\n",
       "    </tr>\n",
       "  </thead>\n",
       "  <tbody>\n",
       "    <tr>\n",
       "      <th>0</th>\n",
       "      <td>1693998201-1</td>\n",
       "      <td>Neuhusstrasse 6, 8630 Rüti ZH, ZH</td>\n",
       "      <td>3.0</td>\n",
       "      <td>49.0</td>\n",
       "      <td>1441.0</td>\n",
       "    </tr>\n",
       "    <tr>\n",
       "      <th>1</th>\n",
       "      <td>1693998201-2</td>\n",
       "      <td>Zürcherstrasse 1, 8173 Neerach, ZH</td>\n",
       "      <td>3.5</td>\n",
       "      <td>65.0</td>\n",
       "      <td>1850.0</td>\n",
       "    </tr>\n",
       "    <tr>\n",
       "      <th>2</th>\n",
       "      <td>1693998201-3</td>\n",
       "      <td>Cramerstrasse 8-12, 8004 Zürich, ZH</td>\n",
       "      <td>NaN</td>\n",
       "      <td>NaN</td>\n",
       "      <td>2686.0</td>\n",
       "    </tr>\n",
       "    <tr>\n",
       "      <th>3</th>\n",
       "      <td>1693998201-4</td>\n",
       "      <td>Cramerstrasse 8-12, 8004 Zürich, ZH</td>\n",
       "      <td>2.0</td>\n",
       "      <td>54.0</td>\n",
       "      <td>4853.0</td>\n",
       "    </tr>\n",
       "    <tr>\n",
       "      <th>4</th>\n",
       "      <td>1693998201-5</td>\n",
       "      <td>Rotachstrasse 33, 8003 Zürich, ZH</td>\n",
       "      <td>2.0</td>\n",
       "      <td>49.0</td>\n",
       "      <td>4335.0</td>\n",
       "    </tr>\n",
       "  </tbody>\n",
       "</table>\n",
       "</div>"
      ],
      "text/plain": [
       "  web-scraper-order                          address_raw  rooms  area   price\n",
       "0      1693998201-1    Neuhusstrasse 6, 8630 Rüti ZH, ZH    3.0  49.0  1441.0\n",
       "1      1693998201-2   Zürcherstrasse 1, 8173 Neerach, ZH    3.5  65.0  1850.0\n",
       "2      1693998201-3  Cramerstrasse 8-12, 8004 Zürich, ZH    NaN   NaN  2686.0\n",
       "3      1693998201-4  Cramerstrasse 8-12, 8004 Zürich, ZH    2.0  54.0  4853.0\n",
       "4      1693998201-5    Rotachstrasse 33, 8003 Zürich, ZH    2.0  49.0  4335.0"
      ]
     },
     "execution_count": 4,
     "metadata": {},
     "output_type": "execute_result"
    }
   ],
   "source": [
    "df = pd.read_csv('apartments_data_prepared.csv',\n",
    "                  sep=',', \n",
    "                  encoding='utf-8')[['web-scraper-order', 'address_raw', 'rooms', 'area', 'price']]\n",
    "print(df.shape)\n",
    "df.head(5)"
   ]
  },
  {
   "cell_type": "markdown",
   "id": "ef970dfe",
   "metadata": {},
   "source": [
    "## Write data to the SQL-table in data base"
   ]
  },
  {
   "cell_type": "code",
   "execution_count": 5,
   "id": "1c728ac7",
   "metadata": {},
   "outputs": [
    {
     "data": {
      "text/plain": [
       "1008"
      ]
     },
     "execution_count": 5,
     "metadata": {},
     "output_type": "execute_result"
    }
   ],
   "source": [
    "df.to_sql(name = 'apartments_table',\n",
    "          con = conn,\n",
    "          index = False,\n",
    "          if_exists = 'replace')"
   ]
  },
  {
   "cell_type": "markdown",
   "id": "43c2ef9f",
   "metadata": {},
   "source": [
    "## Query the SQL-table"
   ]
  },
  {
   "cell_type": "code",
   "execution_count": 6,
   "id": "48dcc02c",
   "metadata": {},
   "outputs": [
    {
     "data": {
      "text/html": [
       "<div>\n",
       "<style scoped>\n",
       "    .dataframe tbody tr th:only-of-type {\n",
       "        vertical-align: middle;\n",
       "    }\n",
       "\n",
       "    .dataframe tbody tr th {\n",
       "        vertical-align: top;\n",
       "    }\n",
       "\n",
       "    .dataframe thead th {\n",
       "        text-align: right;\n",
       "    }\n",
       "</style>\n",
       "<table border=\"1\" class=\"dataframe\">\n",
       "  <thead>\n",
       "    <tr style=\"text-align: right;\">\n",
       "      <th></th>\n",
       "      <th>OrderId</th>\n",
       "      <th>Address</th>\n",
       "      <th>Rooms</th>\n",
       "      <th>Area</th>\n",
       "      <th>Price</th>\n",
       "    </tr>\n",
       "  </thead>\n",
       "  <tbody>\n",
       "    <tr>\n",
       "      <th>0</th>\n",
       "      <td>1693998201-1</td>\n",
       "      <td>Neuhusstrasse 6, 8630 Rüti ZH, ZH</td>\n",
       "      <td>3.0</td>\n",
       "      <td>49.0</td>\n",
       "      <td>1441.0</td>\n",
       "    </tr>\n",
       "    <tr>\n",
       "      <th>1</th>\n",
       "      <td>1693998201-2</td>\n",
       "      <td>Zürcherstrasse 1, 8173 Neerach, ZH</td>\n",
       "      <td>3.5</td>\n",
       "      <td>65.0</td>\n",
       "      <td>1850.0</td>\n",
       "    </tr>\n",
       "    <tr>\n",
       "      <th>2</th>\n",
       "      <td>1693998201-4</td>\n",
       "      <td>Cramerstrasse 8-12, 8004 Zürich, ZH</td>\n",
       "      <td>2.0</td>\n",
       "      <td>54.0</td>\n",
       "      <td>4853.0</td>\n",
       "    </tr>\n",
       "    <tr>\n",
       "      <th>3</th>\n",
       "      <td>1693998201-5</td>\n",
       "      <td>Rotachstrasse 33, 8003 Zürich, ZH</td>\n",
       "      <td>2.0</td>\n",
       "      <td>49.0</td>\n",
       "      <td>4335.0</td>\n",
       "    </tr>\n",
       "    <tr>\n",
       "      <th>4</th>\n",
       "      <td>1693998201-16</td>\n",
       "      <td>Wolframplatz 1, 8045 Zürich, ZH</td>\n",
       "      <td>2.0</td>\n",
       "      <td>32.0</td>\n",
       "      <td>3515.0</td>\n",
       "    </tr>\n",
       "    <tr>\n",
       "      <th>...</th>\n",
       "      <td>...</td>\n",
       "      <td>...</td>\n",
       "      <td>...</td>\n",
       "      <td>...</td>\n",
       "      <td>...</td>\n",
       "    </tr>\n",
       "    <tr>\n",
       "      <th>958</th>\n",
       "      <td>1693998381-1004</td>\n",
       "      <td>Hölderlinstrasse 12, 8032 Zürich, ZH</td>\n",
       "      <td>3.5</td>\n",
       "      <td>82.0</td>\n",
       "      <td>2830.0</td>\n",
       "    </tr>\n",
       "    <tr>\n",
       "      <th>959</th>\n",
       "      <td>1693998381-1005</td>\n",
       "      <td>Hegifeldstrasse 70, 8404 Reutlingen (Winterthu...</td>\n",
       "      <td>4.0</td>\n",
       "      <td>73.0</td>\n",
       "      <td>1713.0</td>\n",
       "    </tr>\n",
       "    <tr>\n",
       "      <th>960</th>\n",
       "      <td>1693998381-1006</td>\n",
       "      <td>Holzmoosrütisteig 2b, 8820 Wädenswil, ZH</td>\n",
       "      <td>4.5</td>\n",
       "      <td>110.0</td>\n",
       "      <td>3500.0</td>\n",
       "    </tr>\n",
       "    <tr>\n",
       "      <th>961</th>\n",
       "      <td>1693998381-1007</td>\n",
       "      <td>Vogelbuckstrasse 25, 8307 Effretikon, ZH</td>\n",
       "      <td>3.0</td>\n",
       "      <td>68.0</td>\n",
       "      <td>1650.0</td>\n",
       "    </tr>\n",
       "    <tr>\n",
       "      <th>962</th>\n",
       "      <td>1693998381-1008</td>\n",
       "      <td>Maneggstrasse 83, 8041 Zürich, ZH</td>\n",
       "      <td>4.5</td>\n",
       "      <td>114.0</td>\n",
       "      <td>3262.0</td>\n",
       "    </tr>\n",
       "  </tbody>\n",
       "</table>\n",
       "<p>963 rows × 5 columns</p>\n",
       "</div>"
      ],
      "text/plain": [
       "             OrderId                                            Address  \\\n",
       "0       1693998201-1                  Neuhusstrasse 6, 8630 Rüti ZH, ZH   \n",
       "1       1693998201-2                 Zürcherstrasse 1, 8173 Neerach, ZH   \n",
       "2       1693998201-4                Cramerstrasse 8-12, 8004 Zürich, ZH   \n",
       "3       1693998201-5                  Rotachstrasse 33, 8003 Zürich, ZH   \n",
       "4      1693998201-16                    Wolframplatz 1, 8045 Zürich, ZH   \n",
       "..               ...                                                ...   \n",
       "958  1693998381-1004               Hölderlinstrasse 12, 8032 Zürich, ZH   \n",
       "959  1693998381-1005  Hegifeldstrasse 70, 8404 Reutlingen (Winterthu...   \n",
       "960  1693998381-1006           Holzmoosrütisteig 2b, 8820 Wädenswil, ZH   \n",
       "961  1693998381-1007           Vogelbuckstrasse 25, 8307 Effretikon, ZH   \n",
       "962  1693998381-1008                  Maneggstrasse 83, 8041 Zürich, ZH   \n",
       "\n",
       "     Rooms   Area   Price  \n",
       "0      3.0   49.0  1441.0  \n",
       "1      3.5   65.0  1850.0  \n",
       "2      2.0   54.0  4853.0  \n",
       "3      2.0   49.0  4335.0  \n",
       "4      2.0   32.0  3515.0  \n",
       "..     ...    ...     ...  \n",
       "958    3.5   82.0  2830.0  \n",
       "959    4.0   73.0  1713.0  \n",
       "960    4.5  110.0  3500.0  \n",
       "961    3.0   68.0  1650.0  \n",
       "962    4.5  114.0  3262.0  \n",
       "\n",
       "[963 rows x 5 columns]"
      ]
     },
     "execution_count": 6,
     "metadata": {},
     "output_type": "execute_result"
    }
   ],
   "source": [
    "# Query the SQL-table\n",
    "cursor.execute('''SELECT *\n",
    "               FROM apartments_table\n",
    "               WHERE rooms >=1''')\n",
    "\n",
    "df = pd.DataFrame(cursor.fetchall(), \n",
    "                  columns=['OrderId','Address','Rooms','Area','Price'])    \n",
    "df"
   ]
  },
  {
   "cell_type": "markdown",
   "id": "9cf74c29",
   "metadata": {},
   "source": [
    "## Additional SQL-queries"
   ]
  },
  {
   "cell_type": "code",
   "execution_count": 7,
   "id": "502c2313",
   "metadata": {},
   "outputs": [
    {
     "name": "stdout",
     "output_type": "stream",
     "text": [
      "Apartments with >= 4.0 rooms and area >= 100m²: [('1693998205-26', 'Frowiesstrasse 36, 8344 Bäretswil, ZH', 5.5, 140.0, 2750.0), ('1693998205-27', 'Kanzleistrasse 15, 8418 Schlatt ZH, ZH', 4.5, 104.0, 2700.0), ('1693998205-29', 'Bolletweg 14, 8934 Knonau, ZH', 5.5, 150.0, 3390.0), ('1693998205-31', 'Adlergass 6, 8805 Richterswil, ZH', 5.5, 165.0, None), ('1693998205-33', 'Haldenstrasse 67, 8602 Wangen b. Dübendorf, ZH', 4.5, 118.0, 3390.0), ('1693998205-36', 'Albisriederstrasse 392a, 8047 Zürich, ZH', 5.5, 192.0, 4960.0), ('1693998205-37', 'Tisliacherstrasse 8, 8320 Fehraltorf, ZH', 5.5, 166.0, 3500.0), ('1693998205-38', 'Buckwiesstrasse 12, 8700 Küsnacht ZH, ZH', 5.5, 232.0, 8500.0), ('1693998205-39', 'Binzigerstrasse 52, 8707 Uetikon am See, ZH', 6.5, 300.0, 11.0), ('1693998205-40', 'Hinterdorfstr. 4, 8315 Lindau, ZH', 4.5, 124.0, 2740.0), ('1693998205-42', 'Bahnhofstrasse 19a, 8803 Rüschlikon, ZH', 7.0, 315.0, None), ('1693998205-43', 'Limmatstrasse 260, 8005 Zürich, ZH', 4.5, 170.0, 6600.0), ('1693998205-46', 'Marktgasse 17, 8400 Winterthur, ZH', 4.5, 160.0, 3200.0), ('1693998205-48', 'Goldistenstrasse 23, 8625 Gossau ZH, ZH', 7.5, 210.0, 4200.0), ('1693998210-51', 'Hofackerstrasse 5, 8422 Pfungen, ZH', 4.5, 107.0, 1900.0), ('1693998210-53', 'Bergstrasse  16, 8955 Oetwil an der Limmat, ZH', 5.5, 282.0, 6000.0), ('1693998210-54', 'Hagenholzstrasse 100, 8050 Zürich, ZH', 4.5, 141.0, 3309.0), ('1693998210-55', '8303 Bassersdorf, ZH', 4.5, 136.0, 3400.0), ('1693998210-57', '8182 Hochfelden, ZH', 5.5, 148.0, 2993.0), ('1693998210-60', '8340 Hinwil, ZH', 5.5, 135.0, 3850.0), ('1693998210-63', '8427 Rorbas, ZH', 4.5, 127.0, 2500.0), ('1693998214-77', 'Oberdorfstrasse, 8934 Knonau, ZH', 4.0, 240.0, 3500.0), ('1693998214-88', 'Dorfstrasse 2, 8309 Nürensdorf, ZH', 5.5, 150.0, 4500.0), ('1693998214-90', '8400 Winterthur, ZH', 4.5, 117.0, 3782.0), ('1693998214-91', 'Gutrainstrasse 7 A, 8303 Bassersdorf, ZH', 5.0, 130.0, 2910.0), ('1693998219-117', 'Obermattweg 3, 8545 Rickenbach ZH, ZH', 4.5, 124.0, 2170.0), ('1693998219-118', '8002 Zürich, ZH', 8.5, 210.0, 8500.0), ('1693998224-121', 'Mitteldorfstrasse 27, 8475 Ossingen, ZH', 4.5, 106.0, 2170.0), ('1693998224-122', 'Rainstrasse 80, 8712 Stäfa, ZH', 4.5, 148.0, 4400.0), ('1693998224-124', 'Im Gsteig 9, 8712 Stäfa, ZH', 7.0, 115.0, 3500.0), ('1693998224-125', 'Hirschweg 9, 8405 Winterthur, ZH', 6.5, 143.0, 3500.0), ('1693998224-126', 'Neunfornerstrasse 4, 8479 Altikon, ZH', 4.5, 133.0, 2000.0), ('1693998224-128', 'Müliwiesstrasse 71, 8487 Zell ZH, ZH', 4.5, 133.0, 2450.0), ('1693998224-132', 'Im Rebacher 10, 8118 Pfaffhausen, ZH', 5.5, 121.0, 2900.0), ('1693998224-135', 'Am Eulachpark 25, 8404 Winterthur, ZH', 6.5, 143.0, 3017.0), ('1693998224-139', 'Wolfgrabenstrasse 15c, 8135 Langnau am Albis, ZH', 4.5, 111.0, 3130.0), ('1693998224-143', 'Mühlebachstr. 28, 8008 Zürich, ZH', 4.5, 128.0, 5710.0), ('1693998228-147', 'Wehntalerstrasse 38, 8157 Dielsdorf, ZH', 5.5, 120.0, 2950.0), ('1693998228-149', 'Brunnenwiesenstrasse 15, 8105 Regensdorf, ZH', 4.5, 177.0, 3970.0), ('1693998228-150', 'Dorfstrasse 10, 8181 Höri, ZH', 4.5, 104.0, 2800.0), ('1693998228-152', 'Dorfstrasse 10, 8181 Höri, ZH', 4.5, 104.0, 2500.0), ('1693998228-153', 'Tannenstrasse 8, 8442 Hettlingen, ZH', 4.5, 120.0, 2990.0), ('1693998228-160', '8615 Wermatswil, ZH', 6.5, 170.0, 5500.0), ('1693998228-163', '8032 Zürich, ZH', 7.0, 180.0, 6300.0), ('1693998228-164', 'Eichstrasse 7, 8712 Stäfa, ZH', 4.5, 144.0, 3200.0), ('1693998228-167', 'Wilhofstrasse 4, 8332 Russikon, ZH', 4.5, 150.0, 3435.0), ('1693998228-168', 'Untere Schärerstrasse 6, 8352 Elsau, ZH', 5.5, 140.0, 2850.0), ('1693998233-177', 'Bucheggstrasse 130, 8057 Zürich, ZH', 4.5, 119.0, 4360.0), ('1693998233-182', '8175 Windlach, ZH', 4.5, 107.0, 2080.0), ('1693998233-188', 'Sonnenbergstrasse 3, 8603 Schwerzenbach, ZH', 4.5, 122.0, 2940.0), ('1693998233-192', '8942 Oberrieden, ZH', 4.5, 121.0, 4990.0), ('1693998236-201', '8400 Winterthur, ZH', 4.5, 112.0, 3360.0), ('1693998240-217', 'Glärnischstrasse 37, 8810 Horgen, ZH', 4.5, 124.0, 3500.0), ('1693998240-220', 'Rütibuckstrasse 6, 8248 Uhwiesen, ZH', 5.5, 125.0, 2950.0), ('1693998240-223', 'Weidstrasse 2, 8607 Aathal-Seegräben, ZH', 6.5, 258.0, 4300.0), ('1693998240-235', 'Bahnhofstrasse 19, 8803 Rüschlikon, ZH', 4.5, 144.0, 6660.0), ('1693998243-243', '8154 Oberglatt ZH, ZH', 6.0, 150.0, 4800.0), ('1693998243-244', '8180 Bülach, ZH', 4.5, 140.0, 2750.0), ('1693998243-245', 'Zelgliweg 5, 8311 Brütten, ZH', 5.5, 270.0, 4600.0), ('1693998243-248', 'Hirschweg 33, 8405 Winterthur, ZH', 4.5, 107.0, 2928.0), ('1693998243-251', 'Euelstrasse  56, 8408 Winterthur, ZH', 5.5, 170.0, 3900.0), ('1693998243-255', 'Dorfstraße 72, 8212 Nohl, ZH', 5.5, 150.0, 3990.0), ('1693998243-257', 'Schlossbachstrasse 24, 8620 Wetzikon ZH, ZH', 5.5, 114.0, 2470.0), ('1693998243-259', 'Kanzleistrasse 15, 8418 Schlatt ZH, ZH', 4.5, 122.0, 3100.0), ('1693998243-262', 'Bühlstrasse 5, 8125 Zollikerberg, ZH', 5.5, 137.0, 4414.0), ('1693998247-265', '8053 Zürich, ZH', 4.5, 174.0, 7900.0), ('1693998247-266', 'Heidwiesen 19, 8051 Zürich, ZH', 4.5, 100.0, 3500.0), ('1693998247-268', 'Dorfstrasse 27a, 8902 Urdorf, ZH', 4.5, 109.0, None), ('1693998247-270', 'Murzlenstrasse 5, 8166 Niederweningen, ZH', 5.5, 150.0, 2850.0), ('1693998247-274', 'Chrüzlerstrasse 20, 8545 Rickenbach Sulz, ZH', 4.5, 123.0, 2892.0), ('1693998247-275', 'Chrüzlerstrasse 20, 8545 Rickenbach Sulz, ZH', 4.5, 140.0, 3625.0), ('1693998247-276', '8910 Affoltern am Albis, ZH', 6.5, 151.0, 4990.0), ('1693998247-280', '8181 Höri, ZH', 4.5, 100.0, 1800.0), ('1693998247-281', '8603 Schwerzenbach, ZH', 4.5, 122.0, 2980.0), ('1693998247-285', 'In der Höh 5, 8604 Volketswil, ZH', 4.5, 116.0, 2595.0), ('1693998247-287', '8115 Hüttikon, ZH', 4.5, 144.0, 2950.0), ('1693998252-289', 'Hammerstrasse 54b, 8032 Zürich, ZH', 4.5, 126.0, 4000.0), ('1693998252-291', 'Römerhof 1, 8353 Elgg, ZH', 6.5, 175.0, 4950.0), ('1693998252-292', 'Scheideggstrasse 70, 8002 Zürich, ZH', 7.5, 205.0, 5395.0), ('1693998252-297', 'Langenweg 12, 8428 Teufen ZH, ZH', 6.5, 180.0, 3400.0), ('1693998256-313', 'Edikerstrasse 14, 8635 Dürnten, ZH', 4.5, 132.0, 3100.0), ('1693998256-316', 'Rainstrasse 80, 8712 Stäfa, ZH', 4.5, 148.0, 4400.0), ('1693998256-322', 'Leingrüeblerstrasse 12, 8542 Wiesendangen, ZH', 4.5, 100.0, 3350.0), ('1693998256-326', 'Wildenbühlstr. 15, 8135 Langnau am Albis, ZH', 5.5, 145.0, 3100.0), ('1693998256-330', 'Endlikerstrasse 65, 8400 Winterthur, ZH', 4.5, 117.0, 2270.0), ('1693998261-339', '8932 Mettmenstetten, ZH', 4.5, 101.0, 2850.0), ('1693998261-345', '8404 Winterthur, ZH', 5.5, 200.0, 5600.0), ('1693998261-347', '8032 Zürich, ZH', 4.5, 146.0, 5900.0), ('1693998261-350', 'Steinmaurstrasse 19B, 8173 Neerach, ZH', 5.5, 191.0, 3400.0), ('1693998261-351', 'Steig 37, 8193 Eglisau, ZH', 5.5, 140.0, 3200.0), ('1693998261-357', 'Schlosshofstrasse 19, 8400 Winterthur, ZH', 4.5, 113.0, 2700.0), ('1693998261-358', 'Bassersdorferstrasse 9, 8305 Dietlikon, ZH', 7.5, 200.0, 4700.0), ('1693998261-360', 'Gernstrasse 32, 8409 Winterthur, ZH', 5.5, 153.0, 3059.0), ('1693998265-365', 'Gustav-Gull-Platz 4, 8004 Zürich, ZH', 4.5, 140.0, 9950.0), ('1693998265-366', 'Engweg 8, 8006 Zürich, ZH', 4.5, 140.0, 9170.0), ('1693998265-369', 'Gotthelfstrasse 41, 8003 Zürich, ZH', 4.5, 115.0, 8490.0), ('1693998265-379', 'Gumpenwisenstrasse 10, 8166 Niederweningen, ZH', 4.5, 112.0, 2495.0), ('1693998265-381', 'Rain 1, 8630 Rüti ZH, ZH', 4.0, 118.0, 3240.0), ('1693998265-383', 'Forchstrasse 129b, 8127 Forch, ZH', 5.5, 159.0, 5100.0), ('1693998265-384', 'Zelglistrasse 5a, 8175 Windlach, ZH', 5.5, 160.0, 3500.0), ('1693998272-385', 'Kirchweg 91, 8245 Feuerthalen, ZH', 4.5, 113.0, 2370.0), ('1693998272-388', 'Plattenstr. 34, 8032 Zürich, ZH', 4.5, 165.0, 6293.0), ('1693998272-395', 'Säntisstrasse 6, 8302 Kloten, ZH', 4.5, 111.0, 3015.0), ('1693998272-398', 'Ernst-Jung-Gasse 18, 8400 Winterthur, ZH', 4.5, 112.0, 3970.0), ('1693998272-400', 'Badenerstrasse 110, 8952 Schlieren, ZH', 4.5, 110.0, 2843.0), ('1693998272-401', 'Reidholzstrasse 24a, 8805 Richterswil, ZH', 5.0, 116.0, None), ('1693998272-408', '8426 Lufingen, ZH', 5.5, 120.0, 3500.0), ('1693998276-409', 'Hagenholzstrasse, 8050 Zürich, 8050 Zürich, ZH', 4.5, 127.0, None), ('1693998276-410', 'Bodenacherstrasse 18, 8121 Benglen, ZH', 4.5, 102.0, 2500.0), ('1693998276-415', 'Bergstrasse 76, 8032 Zürich, ZH', 7.0, 170.0, 6400.0), ('1693998276-420', 'Aspbachstrasse 2, 8426 Lufingen, ZH', 4.5, 113.0, 2790.0), ('1693998276-430', 'Brown Boveri-Str. 12, 8050 Zürich, ZH', 4.5, 135.0, 3840.0), ('1693998280-433', '8907 Wettswil, ZH', 4.5, 120.0, 3850.0), ('1693998280-437', '8810 Horgen, ZH', 4.5, 122.0, 4380.0), ('1693998280-438', 'Bachwiesenstr. 119, 8047 Zürich, ZH', 4.5, 108.0, 2380.0), ('1693998280-440', 'Sägereistrasse 12, 8135 Langnau am Albis, ZH', 5.0, 120.0, 3095.0), ('1693998280-443', 'Robert-Walser-Strasse 46, 8820 Wädenswil, ZH', 8.0, 160.0, 5500.0), ('1693998280-445', 'Felmisstrasse 48, 8494 Bauma, ZH', 6.5, 120.0, 1900.0), ('1693998280-447', 'Grabenwiese 2, 8484 Weisslingen, ZH', 6.5, 585.0, 3250.0), ('1693998280-448', 'Letzacherstrasse 4, 8117 Fällanden, ZH', 5.5, 199.0, 3800.0), ('1693998285-457', 'Surbgasse 9, 8166 Niederweningen, ZH', 4.5, 102.0, 2650.0), ('1693998285-467', '8618 Oetwil am See, ZH', 5.5, 140.0, 4590.0), ('1693998285-468', '8912 Obfelden, ZH', 4.5, 104.0, 3200.0), ('1693998285-469', '8175 Windlach, ZH', 4.5, 160.0, 2390.0), ('1693998285-475', 'Universitätstrasse 41, 8006 Zürich, ZH', 4.5, 140.0, 8990.0), ('1693998289-482', 'Lärchenstrasse 6, 8442 Hettlingen, ZH', 6.0, 1633.0, 3900.0), ('1693998289-488', 'Kanalweg 2, 8610 Uster, ZH', 4.5, 101.0, 1911.0), ('1693998289-490', 'Schlosshofstrasse 21, 8400 Winterthur, ZH', 4.5, 100.0, 2600.0), ('1693998289-493', 'Heiselstrasse 120, 8155 Niederhasli, ZH', 4.5, 137.0, 2070.0), ('1693998289-494', 'Landvogt-Waser-Strasse 69, 8405 Winterthur, ZH', 4.5, 106.0, 2290.0), ('1693998289-503', 'Mülliweiherstrasse 5, 8162 Steinmaur, ZH', 4.5, 120.0, 2380.0), ('1693998294-514', 'Espenstrasse 91, 8408 Winterthur, ZH', 4.5, 122.0, 2550.0), ('1693998294-515', 'Im Grund 21, 8424 Embrach, ZH', 5.5, 139.0, 3873.0), ('1693998294-519', 'Pfäffikerstrasse 112, 8605 Gutenswil, ZH', 5.5, 160.0, 3950.0), ('1693998294-520', 'Hörnlistrasse 85, 8400 Winterthur, ZH', 4.5, 116.0, 2950.0), ('1693998294-521', 'Appitalstrasse 2, 8820 Wädenswil, ZH', 5.5, 158.0, 6950.0), ('1693998294-527', 'Freiestrasse 182A, 8032 Zürich, ZH', 4.5, 186.0, 8200.0), ('1693998297-530', 'Meientalstrasse 71, 8048 Zürich, ZH', 6.5, 151.0, 4950.0), ('1693998297-533', 'Tobelacherweg 19, 8332 Rumlikon, ZH', 5.5, 146.0, 2838.0), ('1693998297-536', '8620 Wetzikon ZH, ZH', 4.5, 120.0, 3440.0), ('1693998297-549', 'Grundstrasse 5, 8305 Dietlikon, ZH', 4.5, 114.0, 3500.0), ('1693998301-555', 'Robert-Stephenson-Weg  47, 8004 Zürich, ZH', 4.5, 148.0, 6820.0), ('1693998301-558', 'Butzenstrasse 17, 8038 Zürich, ZH', 4.0, 126.0, 3800.0), ('1693998301-565', 'Vieristr. 4, 8603 Schwerzenbach, ZH', 4.5, 103.0, 2340.0), ('1693998301-571', 'Zilstr. 1, 8117 Fällanden, ZH', 4.5, 111.0, 2530.0), ('1693998305-589', 'Gartenhof 16, 8408 Winterthur, ZH', 4.5, 107.0, 2550.0), ('1693998305-593', 'Am Eulachpark 45, 8404 Winterthur, ZH', 5.5, 143.0, 2680.0), ('1693998309-606', 'Winkel 1, 8466 Trüllikon, ZH', 5.5, 152.0, 2150.0), ('1693998309-607', '8311 Brütten, ZH', 6.5, 227.0, 3540.0), ('1693998309-619', 'Überlandstrasse 18, 8953 Dietikon, ZH', 4.5, 124.0, 3685.0), ('1693998309-622', 'Bachtelstrasse 38, 8810 Horgen, ZH', 6.5, 210.0, 10.0), ('1693998309-623', 'Freiestrasse 178, 8032 Zürich, ZH', 4.0, 106.0, 3710.0), ('1693998313-628', 'Riedmühlestr. 7d, 8305 Dietlikon, ZH', 4.5, 118.0, 2940.0), ('1693998313-630', 'Riedmühlestr. 7b, 8305 Dietlikon, ZH', 4.5, 102.0, 2650.0), ('1693998313-632', 'Sunnebergstr . 6, 8248 Uhwiesen, ZH', 6.0, 220.0, 2800.0), ('1693998313-633', 'Hint. Grundstr. 24, 8320 Fehraltorf, ZH', 5.5, 127.0, 1740.0), ('1693998313-634', 'Hegistr. 39f, 8404 Winterthur, ZH', 5.5, 124.0, 2560.0), ('1693998313-641', 'Haldenstrasse 3, 8472 Seuzach, ZH', 4.5, 122.0, 3040.0), ('1693998313-645', 'Chalchtarenstrasse 5, 8820 Wädenswil, ZH', 5.5, 206.0, None), ('1693998313-646', 'Tannenweg 12, 8908 Hedingen, ZH', 6.5, 140.0, 3950.0), ('1693998313-648', 'Wässerwiesenstrasse 65, 8408 Winterthur, ZH', 4.5, 107.0, 1750.0), ('1693998317-653', '8001 Zürich, ZH', 4.5, 137.0, 16.0), ('1693998317-657', 'Riedstr. 28, 8604 Volketswil, ZH', 5.5, 171.0, 4354.0), ('1693998317-659', 'Carmenstrasse 2, 8032 Zürich, ZH', 5.5, 138.0, 6650.0), ('1693998317-660', 'Wehntalerstrasse 295, 8106 Adlikon b. Regensdorf, ZH', 4.5, 104.0, 2500.0), ('1693998317-666', 'Ankenbüel 4, 8126 Zumikon, ZH', 5.5, 147.0, 4316.0), ('1693998317-669', 'Zelgli 12, 8413 Neftenbach, ZH', 4.5, 103.0, 2690.0), ('1693998317-671', 'Hängertenstr. 9, 8104 Weiningen ZH, ZH', 4.5, 110.0, 2500.0), ('1693998317-672', 'Renggerstrasse 57, 8038 Zürich, ZH', 4.0, 100.0, 2610.0), ('1693998321-675', 'Untere Zäune 7, 8001 Zürich, ZH', 4.5, 107.0, 4860.0), ('1693998326-701', 'Magazingasse 2, 8400 Winterthur, ZH', 4.5, 104.0, 2820.0), ('1693998326-702', 'Hohenbühlstrasse 7, 8032 Zürich, ZH', 5.5, 183.0, 10.0), ('1693998326-717', 'Poststrasse 6, 8462 Rheinau, ZH', 5.5, 200.0, 2840.0), ('1693998326-719', 'Schlössliweg 9, 8044 Zürich, ZH', 6.5, 250.0, 7200.0), ('1693998330-728', 'Am Eulachpark 21, 8404 Winterthur, ZH', 4.5, 148.0, 2580.0), ('1693998330-730', 'Grindelstrasse 45, 8604 Volketswil, ZH', 4.5, 109.0, 2490.0), ('1693998330-733', 'Bergstrasse 19, 8618 Oetwil am See, ZH', 4.5, 101.0, 2345.0), ('1693998330-736', 'Glärnischstrasse 1, 8134 Adliswil, ZH', 5.5, 132.0, 3111.0), ('1693998330-738', 'Else-Züblin-Strasse 108, 8404 Winterthur, ZH', 4.5, 123.0, 2855.0), ('1693998335-749', 'Poststrasse 61, 8462 Rheinau, ZH', 5.5, 100.0, 2000.0), ('1693998335-751', 'Grampenweg 35, 8180 Bülach, ZH', 4.5, 120.0, 2460.0), ('1693998335-754', 'Schaffhauserstrasse 363, 8050 Zürich, ZH', 4.5, 148.0, 4180.0), ('1693998335-762', 'Wermatswilerstrasse 92, 8610 Uster, ZH', 4.5, 101.0, 1900.0), ('1693998335-764', 'Euelstrasse  56, 8408 Winterthur, ZH', 5.5, 170.0, 2980.0), ('1693998335-765', 'Im Grüntal 10, 8405 Winterthur, ZH', 4.5, 107.0, 2500.0), ('1693998335-766', 'Am Balsberg 22, 8302 Kloten, ZH', 5.5, 119.0, 2825.0), ('1693998340-771', 'Carmenstrasse 2, 8032 Zürich, ZH', 5.5, 138.0, 6450.0), ('1693998340-774', 'Bahnstr. 90, 8193 Eglisau, ZH', 5.5, 141.0, 2655.0), ('1693998340-779', 'Lettenstrasse 27, 8408 Winterthur, ZH', 4.5, 102.0, 2530.0), ('1693998340-784', 'Weststrasse 80, 8620 Wetzikon ZH, ZH', 4.5, 104.0, 2406.0), ('1693998340-789', 'Bahnhofstrasse 12 + 14, 8303 Bassersdorf, ZH', 4.5, 108.0, 2945.0), ('1693998344-801', 'Südweg 4, 8180 Bülach, ZH', 6.5, 166.0, 3310.0), ('1693998344-803', 'Birmensdorferstrasse 470, 8055 Zürich, ZH', 5.0, 110.0, 3690.0), ('1693998344-806', 'Im Lot 13, 8610 Uster, ZH', 4.5, 113.0, 3520.0), ('1693998344-810', 'Wehntalerstrasse 424, 8046 Zürich, ZH', 4.5, 105.0, 3500.0), ('1693998349-821', 'Zürcherstrasse 135, 8406 Winterthur, ZH', 4.5, 109.0, 2730.0), ('1693998349-824', 'Birmensdorferstrasse 541, 8055 Zürich, ZH', 4.5, 100.0, 4595.0), ('1693998349-833', 'Grossackerstrasse 75, 8041 Zürich, ZH', 4.5, 128.0, 3020.0), ('1693998354-845', 'Seestrasse 78, 8610 Uster, ZH', 4.5, 101.0, 3210.0), ('1693998360-869', 'Unterdorfstr. 10, 8340 Hinwil, ZH', 4.5, 111.0, 2450.0), ('1693998360-872', 'Hegistr. 41e, 8404 Winterthur, ZH', 4.5, 104.0, 2310.0), ('1693998360-873', 'Steinmürlistrasse 48, 8953 Dietikon, ZH', 5.5, 116.0, 2258.0), ('1693998360-879', 'Ackerstr. 29, 8604 Volketswil, ZH', 4.5, 107.0, 2395.0), ('1693998364-889', 'Sternenstrasse 16, 8002 Zürich, ZH', 4.0, 135.0, 4540.0), ('1693998364-891', 'Hegistr. 41e, 8404 Winterthur, ZH', 4.5, 104.0, 2280.0), ('1693998364-903', 'Breitestrasse 9, 8427 Freienstein, ZH', 4.5, 164.0, 2930.0), ('1693998364-905', 'Alte Poststr. 7, 8172 Niederglatt ZH, ZH', 5.5, 170.0, 2960.0), ('1693998364-908', 'Länggenstrasse 18, 8184 Bachenbülach, ZH', 4.5, 117.0, 2565.0), ('1693998364-910', 'Hummelackerstr. 29, 8106 Adlikon b. Regensdorf, ZH', 4.5, 116.0, 2050.0), ('1693998369-915', 'Churfirstenstrasse 16, 8304 Wallisellen, ZH', 4.5, 147.0, 3980.0), ('1693998369-919', 'Oberalbis 10, 8915 Hausen am Albis, ZH', 5.5, 175.0, 3720.0), ('1693998369-922', '8404 Reutlingen (Winterthur), ZH', 4.5, 167.0, 2490.0), ('1693998369-923', '8907 Wettswil, ZH', 4.5, 108.0, 2540.0), ('1693998369-924', 'Anemonenstrasse 30, 8953 Dietikon, ZH', 4.5, 125.0, 3300.0), ('1693998369-925', 'Kreuzstrasse 11, 8180 Bülach, ZH', 4.5, 116.0, 3190.0), ('1693998369-926', 'Dorfstrasse 2, 8309 Nürensdorf, ZH', 6.5, 863.0, 4500.0), ('1693998369-932', 'Hauptstrasse 1d, 8544 Attikon, ZH', 4.5, 121.0, 3020.0), ('1693998369-935', 'Baslerstrasse 77, 8048 Zürich, ZH', 4.0, 101.0, 4179.0), ('1693998373-939', 'Tödistrasse 5, 8620 Wetzikon ZH, ZH', 5.5, 160.0, 2760.0), ('1693998373-940', 'Hegistr. 41b, 8404 Winterthur, ZH', 4.5, 105.0, 2390.0), ('1693998373-941', 'Albisriederstrasse 278, 8047 Zürich, ZH', 5.5, 135.0, 3655.0), ('1693998373-942', 'Dorfstr. 17, 8906 Bonstetten, ZH', 4.5, 104.0, 2055.0), ('1693998373-943', 'Bahnstr. 92, 8193 Eglisau, ZH', 5.5, 141.0, 2660.0), ('1693998373-946', 'Hohenklingenstrasse 45, 8049 Zürich, ZH', 4.5, 120.0, 3549.0), ('1693998373-950', 'Dorfstrasse 21, 8352 Elsau, ZH', 5.5, 114.0, 2600.0), ('1693998373-959', 'Rainstrasse 10, 8134 Adliswil, ZH', 4.5, 124.0, 3590.0), ('1693998373-960', 'Isikerstrasse 26, 8335 Hittnau, ZH', 4.5, 130.0, 2400.0), ('1693998377-963', 'Pfruendhofstrasse 48, 8910 Affoltern am Albis, ZH', 5.5, 124.0, 2769.0), ('1693998377-964', 'Meier-Bosshard-Strasse 12, 8048 Zürich, ZH', 4.5, 104.0, 3260.0), ('1693998377-972', 'Loowiesenstrasse 41, 8106 Adlikon b. Regensdorf, ZH', 4.5, 114.0, 2380.0), ('1693998377-973', 'Loowiesenstrasse 29, 8106 Adlikon b. Regensdorf, ZH', 4.0, 108.0, 2310.0), ('1693998377-975', 'Chlosterstrasse 53, 8103 Unterengstringen, ZH', 6.0, 120.0, 2300.0), ('1693998377-981', 'Hofächerstrasse 25, 8907 Wettswil, ZH', 5.5, 125.0, 3250.0), ('1693998381-996', 'Sulzerallee 51, 8404 Winterthur, ZH', 4.5, 108.0, 2430.0), ('1693998381-998', 'Tösstalstrasse 12, 8492 Wila, ZH', 4.5, 109.0, 1980.0), ('1693998381-999', 'Murzlenstrasse 66, 8166 Niederweningen, ZH', 4.5, 111.0, 2700.0), ('1693998381-1001', 'Murzlenstrasse 66, 8166 Niederweningen, ZH', 4.5, 111.0, 2800.0), ('1693998381-1006', 'Holzmoosrütisteig 2b, 8820 Wädenswil, ZH', 4.5, 110.0, 3500.0), ('1693998381-1008', 'Maneggstrasse 83, 8041 Zürich, ZH', 4.5, 114.0, 3262.0)]\n",
      "Average price per room size: [(None, 3250.8444444444444), (1.0, 1290.311475409836), (1.5, 2036.4186046511627), (2.0, 2133.375), (2.5, 2450.9074074074074), (3.0, 2112.0178571428573), (3.5, 2643.3709677419356), (4.0, 2890.2571428571428), (4.5, 3029.4329896907216), (5.0, 2993.3333333333335), (5.5, 3557.15625), (6.0, 3280.0), (6.5, 3637.6666666666665), (7.0, 5400.0), (7.5, 4765.0), (8.0, 5500.0), (8.5, 8500.0)]\n",
      "Average area per room size: [(None, None), (1.0, 32.092592592592595), (1.5, 35.526315789473685), (2.0, 54.42857142857143), (2.5, 67.31788079470199), (3.0, 68.98039215686275), (3.5, 89.85897435897436), (4.0, 96.12903225806451), (4.5, 114.77966101694915), (5.0, 110.0), (5.5, 154.54237288135593), (6.0, 530.75), (6.5, 248.94117647058823), (7.0, 195.0), (7.5, 205.0), (8.0, 160.0), (8.5, 210.0)]\n"
     ]
    }
   ],
   "source": [
    "import sqlite3\n",
    "\n",
    "conn = sqlite3.connect('apartment_database.db')\n",
    "cursor = conn.cursor()\n",
    "\n",
    "\n",
    "cursor.execute('''\n",
    "    SELECT * \n",
    "    FROM apartments_table \n",
    "    WHERE rooms >= 4.0 \n",
    "    AND area >= 100;\n",
    "''')\n",
    "results = cursor.fetchall()\n",
    "print(\"Apartments with >= 4.0 rooms and area >= 100m²:\", results)\n",
    "\n",
    "\n",
    "cursor.execute('''\n",
    "    SELECT rooms, AVG(price) AS avg_price\n",
    "    FROM apartments_table\n",
    "    GROUP BY rooms;\n",
    "''')\n",
    "avg_price_per_room = cursor.fetchall()\n",
    "print(\"Average price per room size:\", avg_price_per_room)\n",
    "\n",
    "\n",
    "cursor.execute('''\n",
    "    SELECT rooms, AVG(area) AS avg_area\n",
    "    FROM apartments_table\n",
    "    GROUP BY rooms;\n",
    "''')\n",
    "avg_area_per_room = cursor.fetchall()\n",
    "print(\"Average area per room size:\", avg_area_per_room)\n",
    "conn.close()"
   ]
  },
  {
   "cell_type": "markdown",
   "id": "0cc2274f",
   "metadata": {},
   "source": [
    "## Plot histogramm of rental prices"
   ]
  },
  {
   "cell_type": "code",
   "execution_count": 8,
   "id": "60146b13",
   "metadata": {},
   "outputs": [
    {
     "data": {
      "image/png": "[encoded data removed]",
      "text/plain": [
       "<Figure size 640x480 with 1 Axes>"
      ]
     },
     "metadata": {},
     "output_type": "display_data"
    }
   ],
   "source": [
    "df.Price.plot.hist(grid=True, \n",
    "                   bins=20, \n",
    "                   rwidth=0.9,\n",
    "                   color='#607c8e')\n",
    "plt.title('Apartment price')\n",
    "plt.xlabel('Price')\n",
    "plt.ylabel('Frequency')\n",
    "plt.grid(axis='y', alpha=0.75)"
   ]
  },
  {
   "cell_type": "markdown",
   "id": "7904d668",
   "metadata": {},
   "source": [
    "## Close db connection (if open)"
   ]
  },
  {
   "cell_type": "code",
   "execution_count": 9,
   "id": "1b90d3ee",
   "metadata": {},
   "outputs": [
    {
     "name": "stdout",
     "output_type": "stream",
     "text": [
      "False\n"
     ]
    }
   ],
   "source": [
    "# Close db connection (if open)\n",
    "try:\n",
    "    if check_conn(conn):\n",
    "        conn.close()\n",
    "    else:\n",
    "        pass\n",
    "except:\n",
    "    pass\n",
    "\n",
    "# Status (True = open, False = closed)\n",
    "print(check_conn(conn))"
   ]
  },
  {
   "cell_type": "markdown",
   "id": "e847eb93",
   "metadata": {},
   "source": [
    "### Jupyter notebook --footer info-- (please always provide this at the end of each submitted notebook)"
   ]
  },
  {
   "cell_type": "code",
   "execution_count": 10,
   "id": "8e706987",
   "metadata": {},
   "outputs": [
    {
     "name": "stdout",
     "output_type": "stream",
     "text": [
      "-----------------------------------\n",
      "POSIX\n",
      "Linux | 6.8.0-1014-azure\n",
      "Datetime: 2024-10-01 11:25:58\n",
      "Python Version: 3.11.10\n",
      "-----------------------------------\n"
     ]
    }
   ],
   "source": [
    "import os\n",
    "import platform\n",
    "import socket\n",
    "from platform import python_version\n",
    "from datetime import datetime\n",
    "\n",
    "print('-----------------------------------')\n",
    "print(os.name.upper())\n",
    "print(platform.system(), '|', platform.release())\n",
    "print('Datetime:', datetime.now().strftime(\"%Y-%m-%d %H:%M:%S\"))\n",
    "print('Python Version:', python_version())\n",
    "print('-----------------------------------')"
   ]
  }
 ],
 "metadata": {
  "kernelspec": {
   "display_name": "Python 3 (ipykernel)",
   "language": "python",
   "name": "python3"
  },
  "language_info": {
   "codemirror_mode": {
    "name": "ipython",
    "version": 3
   },
   "file_extension": ".py",
   "mimetype": "text/x-python",
   "name": "python",
   "nbconvert_exporter": "python",
   "pygments_lexer": "ipython3",
   "version": "3.11.10"
  }
 },
 "nbformat": 4,
 "nbformat_minor": 5
}
