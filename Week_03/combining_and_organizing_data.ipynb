{
 "cells": [
  {
   "cell_type": "markdown",
   "id": "d766870b",
   "metadata": {},
   "source": [
    "# Combining & organizing data"
   ]
  },
  {
   "cell_type": "markdown",
   "id": "56c4a43d",
   "metadata": {},
   "source": [
    "## Libraries and settings"
   ]
  },
  {
   "cell_type": "code",
   "execution_count": 1,
   "id": "06ae6c4d",
   "metadata": {},
   "outputs": [
    {
     "name": "stdout",
     "output_type": "stream",
     "text": [
      "/workspaces/data_analytics/Week_03\n"
     ]
    }
   ],
   "source": [
    "# Libraries\n",
    "import os\n",
    "import pandas as pd\n",
    "import numpy as np\n",
    "import fnmatch\n",
    "\n",
    "# Ignore warnings\n",
    "import warnings\n",
    "warnings.filterwarnings(\"ignore\")\n",
    "\n",
    "# Show current working directory\n",
    "print(os.getcwd())"
   ]
  },
  {
   "cell_type": "markdown",
   "id": "9043cb40",
   "metadata": {},
   "source": [
    "## Importing the prepared rental apartments data"
   ]
  },
  {
   "cell_type": "code",
   "execution_count": 2,
   "id": "0e0224b2",
   "metadata": {},
   "outputs": [
    {
     "name": "stdout",
     "output_type": "stream",
     "text": [
      "(865, 7)\n"
     ]
    },
    {
     "data": {
      "text/html": [
       "<div>\n",
       "<style scoped>\n",
       "    .dataframe tbody tr th:only-of-type {\n",
       "        vertical-align: middle;\n",
       "    }\n",
       "\n",
       "    .dataframe tbody tr th {\n",
       "        vertical-align: top;\n",
       "    }\n",
       "\n",
       "    .dataframe thead th {\n",
       "        text-align: right;\n",
       "    }\n",
       "</style>\n",
       "<table border=\"1\" class=\"dataframe\">\n",
       "  <thead>\n",
       "    <tr style=\"text-align: right;\">\n",
       "      <th></th>\n",
       "      <th>web-scraper-order</th>\n",
       "      <th>address_raw</th>\n",
       "      <th>rooms</th>\n",
       "      <th>area</th>\n",
       "      <th>luxurious</th>\n",
       "      <th>price</th>\n",
       "      <th>price_per_m2</th>\n",
       "    </tr>\n",
       "  </thead>\n",
       "  <tbody>\n",
       "    <tr>\n",
       "      <th>0</th>\n",
       "      <td>1693998201-1</td>\n",
       "      <td>Neuhusstrasse 6, 8630 Rüti ZH, ZH</td>\n",
       "      <td>3.0</td>\n",
       "      <td>49.0</td>\n",
       "      <td>0</td>\n",
       "      <td>1441.0</td>\n",
       "      <td>29.41</td>\n",
       "    </tr>\n",
       "    <tr>\n",
       "      <th>1</th>\n",
       "      <td>1693998201-2</td>\n",
       "      <td>Zürcherstrasse 1, 8173 Neerach, ZH</td>\n",
       "      <td>3.5</td>\n",
       "      <td>65.0</td>\n",
       "      <td>0</td>\n",
       "      <td>1850.0</td>\n",
       "      <td>28.46</td>\n",
       "    </tr>\n",
       "    <tr>\n",
       "      <th>2</th>\n",
       "      <td>1693998201-4</td>\n",
       "      <td>Cramerstrasse 8-12, 8004 Zürich, ZH</td>\n",
       "      <td>2.0</td>\n",
       "      <td>54.0</td>\n",
       "      <td>0</td>\n",
       "      <td>4853.0</td>\n",
       "      <td>89.87</td>\n",
       "    </tr>\n",
       "    <tr>\n",
       "      <th>3</th>\n",
       "      <td>1693998201-5</td>\n",
       "      <td>Rotachstrasse 33, 8003 Zürich, ZH</td>\n",
       "      <td>2.0</td>\n",
       "      <td>49.0</td>\n",
       "      <td>0</td>\n",
       "      <td>4335.0</td>\n",
       "      <td>88.47</td>\n",
       "    </tr>\n",
       "    <tr>\n",
       "      <th>4</th>\n",
       "      <td>1693998201-16</td>\n",
       "      <td>Wolframplatz 1, 8045 Zürich, ZH</td>\n",
       "      <td>2.0</td>\n",
       "      <td>32.0</td>\n",
       "      <td>0</td>\n",
       "      <td>3515.0</td>\n",
       "      <td>109.84</td>\n",
       "    </tr>\n",
       "  </tbody>\n",
       "</table>\n",
       "</div>"
      ],
      "text/plain": [
       "  web-scraper-order                          address_raw  rooms  area  \\\n",
       "0      1693998201-1    Neuhusstrasse 6, 8630 Rüti ZH, ZH    3.0  49.0   \n",
       "1      1693998201-2   Zürcherstrasse 1, 8173 Neerach, ZH    3.5  65.0   \n",
       "2      1693998201-4  Cramerstrasse 8-12, 8004 Zürich, ZH    2.0  54.0   \n",
       "3      1693998201-5    Rotachstrasse 33, 8003 Zürich, ZH    2.0  49.0   \n",
       "4     1693998201-16      Wolframplatz 1, 8045 Zürich, ZH    2.0  32.0   \n",
       "\n",
       "   luxurious   price  price_per_m2  \n",
       "0          0  1441.0         29.41  \n",
       "1          0  1850.0         28.46  \n",
       "2          0  4853.0         89.87  \n",
       "3          0  4335.0         88.47  \n",
       "4          0  3515.0        109.84  "
      ]
     },
     "execution_count": 2,
     "metadata": {},
     "output_type": "execute_result"
    }
   ],
   "source": [
    "# Read data to pandas data frame\n",
    "df_orig = pd.read_csv('apartments_data_prepared.csv', \n",
    "                      sep=',', \n",
    "                      encoding='utf-8')\n",
    "\n",
    "# Copy of data with selected colums\n",
    "columns = [ 'web-scraper-order', \n",
    "            'address_raw',\n",
    "            'rooms', \n",
    "            'area', \n",
    "            'luxurious',\n",
    "            'price',\n",
    "            'price_per_m2']\n",
    "df = df_orig[columns]\n",
    "\n",
    "# Get number of rows and columns\n",
    "print(df.shape)\n",
    "\n",
    "# Show first records\n",
    "df.head(5)"
   ]
  },
  {
   "cell_type": "markdown",
   "id": "f2b3f8b2",
   "metadata": {},
   "source": [
    "## Combining data from different sources"
   ]
  },
  {
   "cell_type": "markdown",
   "id": "03022398",
   "metadata": {},
   "source": [
    "### Reading rental apartment data with geocoded addresses"
   ]
  },
  {
   "cell_type": "code",
   "execution_count": 3,
   "id": "4e722a57",
   "metadata": {},
   "outputs": [
    {
     "data": {
      "text/html": [
       "<div>\n",
       "<style scoped>\n",
       "    .dataframe tbody tr th:only-of-type {\n",
       "        vertical-align: middle;\n",
       "    }\n",
       "\n",
       "    .dataframe tbody tr th {\n",
       "        vertical-align: top;\n",
       "    }\n",
       "\n",
       "    .dataframe thead th {\n",
       "        text-align: right;\n",
       "    }\n",
       "</style>\n",
       "<table border=\"1\" class=\"dataframe\">\n",
       "  <thead>\n",
       "    <tr style=\"text-align: right;\">\n",
       "      <th></th>\n",
       "      <th>web-scraper-order</th>\n",
       "      <th>address_raw</th>\n",
       "      <th>lat</th>\n",
       "      <th>lon</th>\n",
       "      <th>bfs_number</th>\n",
       "      <th>bfs_name</th>\n",
       "    </tr>\n",
       "  </thead>\n",
       "  <tbody>\n",
       "    <tr>\n",
       "      <th>0</th>\n",
       "      <td>1693998201-1</td>\n",
       "      <td>Neuhusstrasse 6, 8630 Rüti ZH, ZH</td>\n",
       "      <td>47.252171</td>\n",
       "      <td>8.845797</td>\n",
       "      <td>118</td>\n",
       "      <td>Rüti (ZH)</td>\n",
       "    </tr>\n",
       "    <tr>\n",
       "      <th>1</th>\n",
       "      <td>1693998201-2</td>\n",
       "      <td>Zürcherstrasse 1, 8173 Neerach, ZH</td>\n",
       "      <td>47.513332</td>\n",
       "      <td>8.474851</td>\n",
       "      <td>88</td>\n",
       "      <td>Neerach</td>\n",
       "    </tr>\n",
       "    <tr>\n",
       "      <th>2</th>\n",
       "      <td>1693998201-5</td>\n",
       "      <td>Rotachstrasse 33, 8003 Zürich, ZH</td>\n",
       "      <td>47.370792</td>\n",
       "      <td>8.514748</td>\n",
       "      <td>261</td>\n",
       "      <td>Zürich</td>\n",
       "    </tr>\n",
       "    <tr>\n",
       "      <th>3</th>\n",
       "      <td>1693998201-16</td>\n",
       "      <td>Wolframplatz 1, 8045 Zürich, ZH</td>\n",
       "      <td>47.362282</td>\n",
       "      <td>8.522193</td>\n",
       "      <td>261</td>\n",
       "      <td>Zürich</td>\n",
       "    </tr>\n",
       "    <tr>\n",
       "      <th>4</th>\n",
       "      <td>1693998205-25</td>\n",
       "      <td>Badenerstrasse 67, 8953 Dietikon, ZH</td>\n",
       "      <td>47.407925</td>\n",
       "      <td>8.392561</td>\n",
       "      <td>243</td>\n",
       "      <td>Dietikon</td>\n",
       "    </tr>\n",
       "  </tbody>\n",
       "</table>\n",
       "</div>"
      ],
      "text/plain": [
       "  web-scraper-order                           address_raw        lat  \\\n",
       "0      1693998201-1     Neuhusstrasse 6, 8630 Rüti ZH, ZH  47.252171   \n",
       "1      1693998201-2    Zürcherstrasse 1, 8173 Neerach, ZH  47.513332   \n",
       "2      1693998201-5     Rotachstrasse 33, 8003 Zürich, ZH  47.370792   \n",
       "3     1693998201-16       Wolframplatz 1, 8045 Zürich, ZH  47.362282   \n",
       "4     1693998205-25  Badenerstrasse 67, 8953 Dietikon, ZH  47.407925   \n",
       "\n",
       "        lon  bfs_number   bfs_name  \n",
       "0  8.845797         118  Rüti (ZH)  \n",
       "1  8.474851          88    Neerach  \n",
       "2  8.514748         261     Zürich  \n",
       "3  8.522193         261     Zürich  \n",
       "4  8.392561         243   Dietikon  "
      ]
     },
     "execution_count": 3,
     "metadata": {},
     "output_type": "execute_result"
    }
   ],
   "source": [
    "# Meaning of variables\n",
    "# lat: geographical latitude\n",
    "# lon: geographical longitude\n",
    "# bfs_number: official municipality id\n",
    "# bfs_name: official municipality name\n",
    "\n",
    "# Geocoded data (i.e. data with latitude and longitude)\n",
    "df_geo = pd.read_csv('apartments_data_geocoded.csv', \n",
    "                     sep=',', \n",
    "                     encoding='utf-8')\n",
    "\n",
    "# Rename columns\n",
    "df_geo = df_geo.rename(columns={'web-scrape':'web-scraper-order',\n",
    "                                'address_ra':'address_raw',\n",
    "                                'BFS_NUMMER':'bfs_number', \n",
    "                                'NAME':'bfs_name'})\n",
    "\n",
    "# Show data\n",
    "df_geo[['web-scraper-order',\n",
    "        'address_raw',\n",
    "        'lat', \n",
    "        'lon', \n",
    "        'bfs_number', \n",
    "        'bfs_name']].head()"
   ]
  },
  {
   "cell_type": "markdown",
   "id": "79c2b637",
   "metadata": {},
   "source": [
    "### Join geo-information to rental apartment data using .merge()"
   ]
  },
  {
   "cell_type": "code",
   "execution_count": 4,
   "id": "b2aeb277",
   "metadata": {},
   "outputs": [
    {
     "data": {
      "text/html": [
       "<div>\n",
       "<style scoped>\n",
       "    .dataframe tbody tr th:only-of-type {\n",
       "        vertical-align: middle;\n",
       "    }\n",
       "\n",
       "    .dataframe tbody tr th {\n",
       "        vertical-align: top;\n",
       "    }\n",
       "\n",
       "    .dataframe thead th {\n",
       "        text-align: right;\n",
       "    }\n",
       "</style>\n",
       "<table border=\"1\" class=\"dataframe\">\n",
       "  <thead>\n",
       "    <tr style=\"text-align: right;\">\n",
       "      <th></th>\n",
       "      <th>web-scraper-order</th>\n",
       "      <th>address_raw</th>\n",
       "      <th>rooms</th>\n",
       "      <th>area</th>\n",
       "      <th>luxurious</th>\n",
       "      <th>price</th>\n",
       "      <th>price_per_m2</th>\n",
       "      <th>lat</th>\n",
       "      <th>lon</th>\n",
       "      <th>bfs_number</th>\n",
       "      <th>bfs_name</th>\n",
       "    </tr>\n",
       "  </thead>\n",
       "  <tbody>\n",
       "    <tr>\n",
       "      <th>0</th>\n",
       "      <td>1693998201-1</td>\n",
       "      <td>Neuhusstrasse 6, 8630 Rüti ZH, ZH</td>\n",
       "      <td>3.0</td>\n",
       "      <td>49.0</td>\n",
       "      <td>0</td>\n",
       "      <td>1441.0</td>\n",
       "      <td>29.41</td>\n",
       "      <td>47.252171</td>\n",
       "      <td>8.845797</td>\n",
       "      <td>118</td>\n",
       "      <td>Rüti (ZH)</td>\n",
       "    </tr>\n",
       "    <tr>\n",
       "      <th>1</th>\n",
       "      <td>1693998201-2</td>\n",
       "      <td>Zürcherstrasse 1, 8173 Neerach, ZH</td>\n",
       "      <td>3.5</td>\n",
       "      <td>65.0</td>\n",
       "      <td>0</td>\n",
       "      <td>1850.0</td>\n",
       "      <td>28.46</td>\n",
       "      <td>47.513332</td>\n",
       "      <td>8.474851</td>\n",
       "      <td>88</td>\n",
       "      <td>Neerach</td>\n",
       "    </tr>\n",
       "    <tr>\n",
       "      <th>2</th>\n",
       "      <td>1693998201-5</td>\n",
       "      <td>Rotachstrasse 33, 8003 Zürich, ZH</td>\n",
       "      <td>2.0</td>\n",
       "      <td>49.0</td>\n",
       "      <td>0</td>\n",
       "      <td>4335.0</td>\n",
       "      <td>88.47</td>\n",
       "      <td>47.370792</td>\n",
       "      <td>8.514748</td>\n",
       "      <td>261</td>\n",
       "      <td>Zürich</td>\n",
       "    </tr>\n",
       "    <tr>\n",
       "      <th>3</th>\n",
       "      <td>1693998201-16</td>\n",
       "      <td>Wolframplatz 1, 8045 Zürich, ZH</td>\n",
       "      <td>2.0</td>\n",
       "      <td>32.0</td>\n",
       "      <td>0</td>\n",
       "      <td>3515.0</td>\n",
       "      <td>109.84</td>\n",
       "      <td>47.362282</td>\n",
       "      <td>8.522193</td>\n",
       "      <td>261</td>\n",
       "      <td>Zürich</td>\n",
       "    </tr>\n",
       "    <tr>\n",
       "      <th>4</th>\n",
       "      <td>1693998205-25</td>\n",
       "      <td>Badenerstrasse 67, 8953 Dietikon, ZH</td>\n",
       "      <td>3.5</td>\n",
       "      <td>105.0</td>\n",
       "      <td>0</td>\n",
       "      <td>3200.0</td>\n",
       "      <td>30.48</td>\n",
       "      <td>47.407925</td>\n",
       "      <td>8.392561</td>\n",
       "      <td>243</td>\n",
       "      <td>Dietikon</td>\n",
       "    </tr>\n",
       "  </tbody>\n",
       "</table>\n",
       "</div>"
      ],
      "text/plain": [
       "  web-scraper-order                           address_raw  rooms   area  \\\n",
       "0      1693998201-1     Neuhusstrasse 6, 8630 Rüti ZH, ZH    3.0   49.0   \n",
       "1      1693998201-2    Zürcherstrasse 1, 8173 Neerach, ZH    3.5   65.0   \n",
       "2      1693998201-5     Rotachstrasse 33, 8003 Zürich, ZH    2.0   49.0   \n",
       "3     1693998201-16       Wolframplatz 1, 8045 Zürich, ZH    2.0   32.0   \n",
       "4     1693998205-25  Badenerstrasse 67, 8953 Dietikon, ZH    3.5  105.0   \n",
       "\n",
       "   luxurious   price  price_per_m2        lat       lon  bfs_number   bfs_name  \n",
       "0          0  1441.0         29.41  47.252171  8.845797         118  Rüti (ZH)  \n",
       "1          0  1850.0         28.46  47.513332  8.474851          88    Neerach  \n",
       "2          0  4335.0         88.47  47.370792  8.514748         261     Zürich  \n",
       "3          0  3515.0        109.84  47.362282  8.522193         261     Zürich  \n",
       "4          0  3200.0         30.48  47.407925  8.392561         243   Dietikon  "
      ]
     },
     "execution_count": 4,
     "metadata": {},
     "output_type": "execute_result"
    }
   ],
   "source": [
    "df2 = df.merge(df_geo[['web-scraper-order', \n",
    "                       'lat', \n",
    "                       'lon', \n",
    "                       'bfs_number', \n",
    "                       'bfs_name']], \n",
    "               on=\"web-scraper-order\")\n",
    "df2.head()"
   ]
  },
  {
   "cell_type": "markdown",
   "id": "ec21f353",
   "metadata": {},
   "source": [
    "### Reading municipality-level data"
   ]
  },
  {
   "cell_type": "code",
   "execution_count": 5,
   "id": "f49be65f",
   "metadata": {},
   "outputs": [
    {
     "data": {
      "text/html": [
       "<div>\n",
       "<style scoped>\n",
       "    .dataframe tbody tr th:only-of-type {\n",
       "        vertical-align: middle;\n",
       "    }\n",
       "\n",
       "    .dataframe tbody tr th {\n",
       "        vertical-align: top;\n",
       "    }\n",
       "\n",
       "    .dataframe thead th {\n",
       "        text-align: right;\n",
       "    }\n",
       "</style>\n",
       "<table border=\"1\" class=\"dataframe\">\n",
       "  <thead>\n",
       "    <tr style=\"text-align: right;\">\n",
       "      <th></th>\n",
       "      <th>bfs_number</th>\n",
       "      <th>bfs_name</th>\n",
       "      <th>pop</th>\n",
       "      <th>pop_dens</th>\n",
       "      <th>frg_pct</th>\n",
       "      <th>emp</th>\n",
       "      <th>mean_taxable_income</th>\n",
       "    </tr>\n",
       "  </thead>\n",
       "  <tbody>\n",
       "    <tr>\n",
       "      <th>0</th>\n",
       "      <td>1</td>\n",
       "      <td>Aeugst am Albis</td>\n",
       "      <td>1981</td>\n",
       "      <td>250.442478</td>\n",
       "      <td>14.184755</td>\n",
       "      <td>442.0</td>\n",
       "      <td>NaN</td>\n",
       "    </tr>\n",
       "    <tr>\n",
       "      <th>1</th>\n",
       "      <td>2</td>\n",
       "      <td>Affoltern am Albis</td>\n",
       "      <td>12303</td>\n",
       "      <td>1161.756374</td>\n",
       "      <td>28.700317</td>\n",
       "      <td>6920.0</td>\n",
       "      <td>NaN</td>\n",
       "    </tr>\n",
       "    <tr>\n",
       "      <th>2</th>\n",
       "      <td>3</td>\n",
       "      <td>Bonstetten</td>\n",
       "      <td>5572</td>\n",
       "      <td>749.932705</td>\n",
       "      <td>16.564968</td>\n",
       "      <td>1014.0</td>\n",
       "      <td>NaN</td>\n",
       "    </tr>\n",
       "    <tr>\n",
       "      <th>3</th>\n",
       "      <td>4</td>\n",
       "      <td>Hausen am Albis</td>\n",
       "      <td>3751</td>\n",
       "      <td>275.808824</td>\n",
       "      <td>16.022394</td>\n",
       "      <td>1021.0</td>\n",
       "      <td>NaN</td>\n",
       "    </tr>\n",
       "    <tr>\n",
       "      <th>4</th>\n",
       "      <td>5</td>\n",
       "      <td>Hedingen</td>\n",
       "      <td>3778</td>\n",
       "      <td>578.560490</td>\n",
       "      <td>16.410799</td>\n",
       "      <td>1478.0</td>\n",
       "      <td>NaN</td>\n",
       "    </tr>\n",
       "  </tbody>\n",
       "</table>\n",
       "</div>"
      ],
      "text/plain": [
       "   bfs_number            bfs_name    pop     pop_dens    frg_pct     emp  \\\n",
       "0           1     Aeugst am Albis   1981   250.442478  14.184755   442.0   \n",
       "1           2  Affoltern am Albis  12303  1161.756374  28.700317  6920.0   \n",
       "2           3          Bonstetten   5572   749.932705  16.564968  1014.0   \n",
       "3           4     Hausen am Albis   3751   275.808824  16.022394  1021.0   \n",
       "4           5            Hedingen   3778   578.560490  16.410799  1478.0   \n",
       "\n",
       "   mean_taxable_income  \n",
       "0                  NaN  \n",
       "1                  NaN  \n",
       "2                  NaN  \n",
       "3                  NaN  \n",
       "4                  NaN  "
      ]
     },
     "execution_count": 5,
     "metadata": {},
     "output_type": "execute_result"
    }
   ],
   "source": [
    "# Meaning of variables:\n",
    "# bfs_number: official municipality id\n",
    "# bfs_name: official municipality name\n",
    "# pop: number of residents (=population)\n",
    "# pop_dens: population density (pop per km2)\n",
    "# frg_pct: percentage foreigners\n",
    "# emp: numer of employees\n",
    "\n",
    "df_municip = pd.read_excel('municipality_data.xlsx', \n",
    "                           sheet_name='data_for_import')\n",
    "df_municip.head(5)"
   ]
  },
  {
   "cell_type": "markdown",
   "id": "c8600d9a",
   "metadata": {},
   "source": [
    "### Join municipality data to rental apartment data using .merge()"
   ]
  },
  {
   "cell_type": "code",
   "execution_count": 6,
   "id": "b22f4607",
   "metadata": {},
   "outputs": [
    {
     "data": {
      "text/html": [
       "<div>\n",
       "<style scoped>\n",
       "    .dataframe tbody tr th:only-of-type {\n",
       "        vertical-align: middle;\n",
       "    }\n",
       "\n",
       "    .dataframe tbody tr th {\n",
       "        vertical-align: top;\n",
       "    }\n",
       "\n",
       "    .dataframe thead th {\n",
       "        text-align: right;\n",
       "    }\n",
       "</style>\n",
       "<table border=\"1\" class=\"dataframe\">\n",
       "  <thead>\n",
       "    <tr style=\"text-align: right;\">\n",
       "      <th></th>\n",
       "      <th>web-scraper-order</th>\n",
       "      <th>address_raw</th>\n",
       "      <th>rooms</th>\n",
       "      <th>area</th>\n",
       "      <th>luxurious</th>\n",
       "      <th>price</th>\n",
       "      <th>price_per_m2</th>\n",
       "      <th>lat</th>\n",
       "      <th>lon</th>\n",
       "      <th>bfs_number</th>\n",
       "      <th>bfs_name</th>\n",
       "      <th>pop</th>\n",
       "      <th>pop_dens</th>\n",
       "      <th>frg_pct</th>\n",
       "      <th>emp</th>\n",
       "      <th>mean_taxable_income</th>\n",
       "    </tr>\n",
       "  </thead>\n",
       "  <tbody>\n",
       "    <tr>\n",
       "      <th>0</th>\n",
       "      <td>1693998201-1</td>\n",
       "      <td>Neuhusstrasse 6, 8630 Rüti ZH, ZH</td>\n",
       "      <td>3.0</td>\n",
       "      <td>49.0</td>\n",
       "      <td>0</td>\n",
       "      <td>1441.0</td>\n",
       "      <td>29.41</td>\n",
       "      <td>47.252171</td>\n",
       "      <td>8.845797</td>\n",
       "      <td>118</td>\n",
       "      <td>Rüti (ZH)</td>\n",
       "      <td>12286</td>\n",
       "      <td>1221.272366</td>\n",
       "      <td>24.841283</td>\n",
       "      <td>5053.0</td>\n",
       "      <td>NaN</td>\n",
       "    </tr>\n",
       "    <tr>\n",
       "      <th>1</th>\n",
       "      <td>1693998201-2</td>\n",
       "      <td>Zürcherstrasse 1, 8173 Neerach, ZH</td>\n",
       "      <td>3.5</td>\n",
       "      <td>65.0</td>\n",
       "      <td>0</td>\n",
       "      <td>1850.0</td>\n",
       "      <td>28.46</td>\n",
       "      <td>47.513332</td>\n",
       "      <td>8.474851</td>\n",
       "      <td>88</td>\n",
       "      <td>Neerach</td>\n",
       "      <td>3175</td>\n",
       "      <td>525.662252</td>\n",
       "      <td>13.322835</td>\n",
       "      <td>641.0</td>\n",
       "      <td>NaN</td>\n",
       "    </tr>\n",
       "    <tr>\n",
       "      <th>2</th>\n",
       "      <td>1693998201-5</td>\n",
       "      <td>Rotachstrasse 33, 8003 Zürich, ZH</td>\n",
       "      <td>2.0</td>\n",
       "      <td>49.0</td>\n",
       "      <td>0</td>\n",
       "      <td>4335.0</td>\n",
       "      <td>88.47</td>\n",
       "      <td>47.370792</td>\n",
       "      <td>8.514748</td>\n",
       "      <td>261</td>\n",
       "      <td>Zürich</td>\n",
       "      <td>420217</td>\n",
       "      <td>4778.994655</td>\n",
       "      <td>32.458468</td>\n",
       "      <td>491193.0</td>\n",
       "      <td>NaN</td>\n",
       "    </tr>\n",
       "    <tr>\n",
       "      <th>3</th>\n",
       "      <td>1693998201-16</td>\n",
       "      <td>Wolframplatz 1, 8045 Zürich, ZH</td>\n",
       "      <td>2.0</td>\n",
       "      <td>32.0</td>\n",
       "      <td>0</td>\n",
       "      <td>3515.0</td>\n",
       "      <td>109.84</td>\n",
       "      <td>47.362282</td>\n",
       "      <td>8.522193</td>\n",
       "      <td>261</td>\n",
       "      <td>Zürich</td>\n",
       "      <td>420217</td>\n",
       "      <td>4778.994655</td>\n",
       "      <td>32.458468</td>\n",
       "      <td>491193.0</td>\n",
       "      <td>NaN</td>\n",
       "    </tr>\n",
       "    <tr>\n",
       "      <th>4</th>\n",
       "      <td>1693998205-25</td>\n",
       "      <td>Badenerstrasse 67, 8953 Dietikon, ZH</td>\n",
       "      <td>3.5</td>\n",
       "      <td>105.0</td>\n",
       "      <td>0</td>\n",
       "      <td>3200.0</td>\n",
       "      <td>30.48</td>\n",
       "      <td>47.407925</td>\n",
       "      <td>8.392561</td>\n",
       "      <td>243</td>\n",
       "      <td>Dietikon</td>\n",
       "      <td>27746</td>\n",
       "      <td>2970.663812</td>\n",
       "      <td>46.226483</td>\n",
       "      <td>18911.0</td>\n",
       "      <td>NaN</td>\n",
       "    </tr>\n",
       "  </tbody>\n",
       "</table>\n",
       "</div>"
      ],
      "text/plain": [
       "  web-scraper-order                           address_raw  rooms   area  \\\n",
       "0      1693998201-1     Neuhusstrasse 6, 8630 Rüti ZH, ZH    3.0   49.0   \n",
       "1      1693998201-2    Zürcherstrasse 1, 8173 Neerach, ZH    3.5   65.0   \n",
       "2      1693998201-5     Rotachstrasse 33, 8003 Zürich, ZH    2.0   49.0   \n",
       "3     1693998201-16       Wolframplatz 1, 8045 Zürich, ZH    2.0   32.0   \n",
       "4     1693998205-25  Badenerstrasse 67, 8953 Dietikon, ZH    3.5  105.0   \n",
       "\n",
       "   luxurious   price  price_per_m2        lat       lon  bfs_number  \\\n",
       "0          0  1441.0         29.41  47.252171  8.845797         118   \n",
       "1          0  1850.0         28.46  47.513332  8.474851          88   \n",
       "2          0  4335.0         88.47  47.370792  8.514748         261   \n",
       "3          0  3515.0        109.84  47.362282  8.522193         261   \n",
       "4          0  3200.0         30.48  47.407925  8.392561         243   \n",
       "\n",
       "    bfs_name     pop     pop_dens    frg_pct       emp  mean_taxable_income  \n",
       "0  Rüti (ZH)   12286  1221.272366  24.841283    5053.0                  NaN  \n",
       "1    Neerach    3175   525.662252  13.322835     641.0                  NaN  \n",
       "2     Zürich  420217  4778.994655  32.458468  491193.0                  NaN  \n",
       "3     Zürich  420217  4778.994655  32.458468  491193.0                  NaN  \n",
       "4   Dietikon   27746  2970.663812  46.226483   18911.0                  NaN  "
      ]
     },
     "execution_count": 6,
     "metadata": {},
     "output_type": "execute_result"
    }
   ],
   "source": [
    "df3 = df2.merge(df_municip[['bfs_number', \n",
    "                            'pop', \n",
    "                            'pop_dens', \n",
    "                            'frg_pct', \n",
    "                            'emp', \n",
    "                            'mean_taxable_income']], \n",
    "                 on=\"bfs_number\",)\n",
    "               \n",
    "df3.head(5)"
   ]
  },
  {
   "cell_type": "markdown",
   "id": "5c201f19",
   "metadata": {},
   "source": [
    "### Export data to file"
   ]
  },
  {
   "cell_type": "code",
   "execution_count": 7,
   "id": "d7ab8250",
   "metadata": {},
   "outputs": [
    {
     "name": "stdout",
     "output_type": "stream",
     "text": [
      "web-scraper-order      0\n",
      "address_raw            0\n",
      "rooms                  0\n",
      "area                   0\n",
      "luxurious              0\n",
      "price                  0\n",
      "price_per_m2           0\n",
      "lat                    0\n",
      "lon                    0\n",
      "bfs_number             0\n",
      "bfs_name               0\n",
      "pop                    0\n",
      "pop_dens               0\n",
      "frg_pct                0\n",
      "emp                    0\n",
      "mean_taxable_income    0\n",
      "dtype: int64\n",
      "(0, 16)\n"
     ]
    }
   ],
   "source": [
    "# Remove missing values which may have ocured from the merging process\n",
    "df3 = df3.dropna()\n",
    "\n",
    "# Check for missing values per column\n",
    "print(df3.isna().sum())\n",
    "\n",
    "# Count number of rows and columns\n",
    "print(df3.shape)\n",
    "\n",
    "# Export apartment data to file\n",
    "df3.to_csv('apartments_data_enriched.csv',\n",
    "            sep=',',\n",
    "            encoding='utf-8')"
   ]
  },
  {
   "cell_type": "markdown",
   "id": "791c9563",
   "metadata": {},
   "source": [
    "### Sorting data"
   ]
  },
  {
   "cell_type": "code",
   "execution_count": 8,
   "id": "dc4c9112",
   "metadata": {},
   "outputs": [
    {
     "data": {
      "text/html": [
       "<div>\n",
       "<style scoped>\n",
       "    .dataframe tbody tr th:only-of-type {\n",
       "        vertical-align: middle;\n",
       "    }\n",
       "\n",
       "    .dataframe tbody tr th {\n",
       "        vertical-align: top;\n",
       "    }\n",
       "\n",
       "    .dataframe thead th {\n",
       "        text-align: right;\n",
       "    }\n",
       "</style>\n",
       "<table border=\"1\" class=\"dataframe\">\n",
       "  <thead>\n",
       "    <tr style=\"text-align: right;\">\n",
       "      <th></th>\n",
       "      <th>web-scraper-order</th>\n",
       "      <th>address_raw</th>\n",
       "      <th>rooms</th>\n",
       "      <th>area</th>\n",
       "      <th>luxurious</th>\n",
       "      <th>price</th>\n",
       "      <th>price_per_m2</th>\n",
       "      <th>lat</th>\n",
       "      <th>lon</th>\n",
       "      <th>bfs_number</th>\n",
       "      <th>bfs_name</th>\n",
       "      <th>pop</th>\n",
       "      <th>pop_dens</th>\n",
       "      <th>frg_pct</th>\n",
       "      <th>emp</th>\n",
       "      <th>mean_taxable_income</th>\n",
       "    </tr>\n",
       "  </thead>\n",
       "  <tbody>\n",
       "  </tbody>\n",
       "</table>\n",
       "</div>"
      ],
      "text/plain": [
       "Empty DataFrame\n",
       "Columns: [web-scraper-order, address_raw, rooms, area, luxurious, price, price_per_m2, lat, lon, bfs_number, bfs_name, pop, pop_dens, frg_pct, emp, mean_taxable_income]\n",
       "Index: []"
      ]
     },
     "execution_count": 8,
     "metadata": {},
     "output_type": "execute_result"
    }
   ],
   "source": [
    "# Sorting data by 'price' and 'area' with highest price above (ascending=False)\n",
    "df3.sort_values(by=['price', 'area'], \n",
    "                ascending=False).head()"
   ]
  },
  {
   "cell_type": "markdown",
   "id": "cd27e686",
   "metadata": {},
   "source": [
    "### Aggregation of data"
   ]
  },
  {
   "cell_type": "code",
   "execution_count": 9,
   "id": "566135d2",
   "metadata": {},
   "outputs": [
    {
     "data": {
      "text/html": [
       "<div>\n",
       "<style scoped>\n",
       "    .dataframe tbody tr th:only-of-type {\n",
       "        vertical-align: middle;\n",
       "    }\n",
       "\n",
       "    .dataframe tbody tr th {\n",
       "        vertical-align: top;\n",
       "    }\n",
       "\n",
       "    .dataframe thead th {\n",
       "        text-align: right;\n",
       "    }\n",
       "</style>\n",
       "<table border=\"1\" class=\"dataframe\">\n",
       "  <thead>\n",
       "    <tr style=\"text-align: right;\">\n",
       "      <th></th>\n",
       "      <th>price</th>\n",
       "    </tr>\n",
       "    <tr>\n",
       "      <th>rooms</th>\n",
       "      <th></th>\n",
       "    </tr>\n",
       "  </thead>\n",
       "  <tbody>\n",
       "  </tbody>\n",
       "</table>\n",
       "</div>"
      ],
      "text/plain": [
       "Empty DataFrame\n",
       "Columns: [price]\n",
       "Index: []"
      ]
     },
     "execution_count": 9,
     "metadata": {},
     "output_type": "execute_result"
    }
   ],
   "source": [
    "# Aggregation using .groupby()\n",
    "df3[['rooms', 'price']].groupby(['rooms']).mean()"
   ]
  },
  {
   "cell_type": "markdown",
   "id": "1aa577f9",
   "metadata": {},
   "source": [
    "## Reshaping data"
   ]
  },
  {
   "cell_type": "markdown",
   "id": "2f70bf89",
   "metadata": {},
   "source": [
    "### Reshaping data using .stack() and .unstack()"
   ]
  },
  {
   "cell_type": "code",
   "execution_count": 10,
   "id": "74d80957",
   "metadata": {},
   "outputs": [
    {
     "name": "stdout",
     "output_type": "stream",
     "text": [
      "Original shape\n",
      "Empty DataFrame\n",
      "Columns: [bfs_name, rooms, price, area]\n",
      "Index: [] \n",
      "\n",
      "Stacked\n",
      "Series([], dtype: object) \n",
      "\n",
      "Unstacked (= back to original shape)\n",
      "Empty DataFrame\n",
      "Columns: []\n",
      "Index: []\n"
     ]
    }
   ],
   "source": [
    "df_sub = df3[['bfs_name', 'rooms', 'price', 'area']][:5]\n",
    "print('Original shape')\n",
    "print(df_sub, '\\n')\n",
    "\n",
    "df_sub_stacked = df_sub.stack()\n",
    "print('Stacked')\n",
    "print(df_sub_stacked, '\\n')\n",
    "\n",
    "# Using unstack\n",
    "print('Unstacked (= back to original shape)')\n",
    "print(df_sub_stacked.unstack())"
   ]
  },
  {
   "cell_type": "markdown",
   "id": "1db19bde",
   "metadata": {},
   "source": [
    "### Reshaping data using .melt()"
   ]
  },
  {
   "cell_type": "code",
   "execution_count": 11,
   "id": "33533c97",
   "metadata": {},
   "outputs": [
    {
     "name": "stdout",
     "output_type": "stream",
     "text": [
      "Original shape\n",
      "Empty DataFrame\n",
      "Columns: [rooms, price, area]\n",
      "Index: [] \n",
      "\n",
      "Reshaped using .melt()\n",
      "      rooms variable   value\n",
      "0       3.0    price  1441.0\n",
      "1       3.5    price  1850.0\n",
      "2       2.0    price  4853.0\n",
      "3       2.0    price  4335.0\n",
      "4       2.0    price  3515.0\n",
      "...     ...      ...     ...\n",
      "1725    3.5     area    82.0\n",
      "1726    4.0     area    73.0\n",
      "1727    4.5     area   110.0\n",
      "1728    3.0     area    68.0\n",
      "1729    4.5     area   114.0\n",
      "\n",
      "[1730 rows x 3 columns]\n"
     ]
    }
   ],
   "source": [
    "df_sub = df3[['rooms', 'price', 'area']][:5]\n",
    "print('Original shape')\n",
    "print(df_sub, '\\n')\n",
    "\n",
    "print('Reshaped using .melt()')\n",
    "print(pd.melt(df, id_vars=['rooms'], value_vars=['price', 'area']))"
   ]
  },
  {
   "cell_type": "markdown",
   "id": "c2991e66",
   "metadata": {},
   "source": [
    "### Pivoting data using .pivot_table()"
   ]
  },
  {
   "cell_type": "code",
   "execution_count": 12,
   "id": "4ac34162",
   "metadata": {},
   "outputs": [
    {
     "data": {
      "image/png": "[encoded data removed]",
      "text/plain": [
       "<Figure size 1000x600 with 1 Axes>"
      ]
     },
     "metadata": {},
     "output_type": "display_data"
    },
    {
     "name": "stdout",
     "output_type": "stream",
     "text": [
      "The scatter plot above shows the relationship between the area of the apartments and the price per square meter (price_per_m2).\n",
      "From the plot, we can observe that there is a general trend where smaller apartments tend to have a higher price per square meter.\n",
      "This can be explained by the fact that smaller apartments are often located in more central or desirable locations, where the cost per square meter is higher.\n",
      "Additionally, smaller apartments may have higher demand relative to their supply, driving up the price per square meter.\n"
     ]
    }
   ],
   "source": [
    "import seaborn as sns\n",
    "\n",
    "# Using pivot_table to reshape the data and calculate means \n",
    "# Using pivot_table to reshape the data and calculate means \n",
    "pivot_table = pd.pivot_table(df3[['rooms', 'price', 'area', 'price_per_m2']],\n",
    "                             index=['rooms'],\n",
    "                             values=['price', 'price_per_m2'],\n",
    "                             aggfunc=(np.mean))\n",
    "\n",
    "# Check relationship between area and price_per_m2\n",
    "import matplotlib.pyplot as plt\n",
    "plt.figure(figsize=(10, 6))\n",
    "sns.scatterplot(data=df3, x='area', y='price_per_m2')\n",
    "plt.title('Relationship between Area and Price per m2')\n",
    "plt.xlabel('Area (m2)')\n",
    "plt.ylabel('Price per m2 (CHF)')\n",
    "plt.show()\n",
    "\n",
    "\n",
    "# Explanation\n",
    "print(\"The scatter plot above shows the relationship between the area of the apartments and the price per square meter (price_per_m2).\")\n",
    "print(\"From the plot, we can observe that there is a general trend where smaller apartments tend to have a higher price per square meter.\")\n",
    "print(\"This can be explained by the fact that smaller apartments are often located in more central or desirable locations, where the cost per square meter is higher.\")\n",
    "print(\"Additionally, smaller apartments may have higher demand relative to their supply, driving up the price per square meter.\")"
   ]
  },
  {
   "cell_type": "markdown",
   "id": "7c7fffd7",
   "metadata": {},
   "source": [
    "## Pivot Table aggfunc=count"
   ]
  },
  {
   "cell_type": "code",
   "execution_count": 13,
   "id": "5bb44bba",
   "metadata": {},
   "outputs": [
    {
     "name": "stdout",
     "output_type": "stream",
     "text": [
      "Empty DataFrame\n",
      "Columns: []\n",
      "Index: []\n",
      "\n",
      "The pivot table above shows the distribution of the number of apartments based on the number of rooms.\n",
      "Each value represents the count of apartments for the corresponding number of rooms.\n"
     ]
    }
   ],
   "source": [
    "# Create a pivot table with count aggregation\n",
    "pivot_table_count = pd.pivot_table(df3[['rooms', 'price', 'area', 'price_per_m2']],\n",
    "                                   index=['rooms'],\n",
    "                                   values=['price'],\n",
    "                                   aggfunc='count')\n",
    "\n",
    "# Display the pivot table\n",
    "print(pivot_table_count)\n",
    "\n",
    "# Description\n",
    "print(\"\\nThe pivot table above shows the distribution of the number of apartments based on the number of rooms.\")\n",
    "print(\"Each value represents the count of apartments for the corresponding number of rooms.\")"
   ]
  },
  {
   "cell_type": "markdown",
   "id": "88809a24",
   "metadata": {},
   "source": [
    "## Pivot Table values"
   ]
  },
  {
   "cell_type": "code",
   "execution_count": 14,
   "id": "ce74e2cb",
   "metadata": {},
   "outputs": [
    {
     "ename": "KeyError",
     "evalue": "'price'",
     "output_type": "error",
     "traceback": [
      "\u001b[0;31m---------------------------------------------------------------------------\u001b[0m",
      "\u001b[0;31mKeyError\u001b[0m                                  Traceback (most recent call last)",
      "\u001b[0;32m/tmp/ipykernel_3271/4149189647.py\u001b[0m in \u001b[0;36m?\u001b[0;34m()\u001b[0m\n\u001b[1;32m      4\u001b[0m                                           \u001b[0mvalues\u001b[0m\u001b[0;34m=\u001b[0m\u001b[0;34m[\u001b[0m\u001b[0;34m'rooms'\u001b[0m\u001b[0;34m,\u001b[0m \u001b[0;34m'area'\u001b[0m\u001b[0;34m,\u001b[0m \u001b[0;34m'price'\u001b[0m\u001b[0;34m,\u001b[0m \u001b[0;34m'price_per_m2'\u001b[0m\u001b[0;34m]\u001b[0m\u001b[0;34m,\u001b[0m\u001b[0;34m\u001b[0m\u001b[0;34m\u001b[0m\u001b[0m\n\u001b[1;32m      5\u001b[0m                                           aggfunc=np.mean)\n\u001b[1;32m      6\u001b[0m \u001b[0;34m\u001b[0m\u001b[0m\n\u001b[1;32m      7\u001b[0m \u001b[0;31m# Sort the pivot table by price and area with the most expensive municipalities on top\u001b[0m\u001b[0;34m\u001b[0m\u001b[0;34m\u001b[0m\u001b[0m\n\u001b[0;32m----> 8\u001b[0;31m \u001b[0mpivot_table_municipality\u001b[0m \u001b[0;34m=\u001b[0m \u001b[0mpivot_table_municipality\u001b[0m\u001b[0;34m.\u001b[0m\u001b[0msort_values\u001b[0m\u001b[0;34m(\u001b[0m\u001b[0mby\u001b[0m\u001b[0;34m=\u001b[0m\u001b[0;34m[\u001b[0m\u001b[0;34m'price'\u001b[0m\u001b[0;34m,\u001b[0m \u001b[0;34m'area'\u001b[0m\u001b[0;34m]\u001b[0m\u001b[0;34m,\u001b[0m \u001b[0mascending\u001b[0m\u001b[0;34m=\u001b[0m\u001b[0;32mFalse\u001b[0m\u001b[0;34m)\u001b[0m\u001b[0;34m\u001b[0m\u001b[0;34m\u001b[0m\u001b[0m\n\u001b[0m\u001b[1;32m      9\u001b[0m \u001b[0;34m\u001b[0m\u001b[0m\n\u001b[1;32m     10\u001b[0m \u001b[0;31m# Display the pivot table\u001b[0m\u001b[0;34m\u001b[0m\u001b[0;34m\u001b[0m\u001b[0m\n\u001b[1;32m     11\u001b[0m \u001b[0mpivot_table_municipality\u001b[0m\u001b[0;34m.\u001b[0m\u001b[0mhead\u001b[0m\u001b[0;34m(\u001b[0m\u001b[0;34m)\u001b[0m\u001b[0;34m\u001b[0m\u001b[0;34m\u001b[0m\u001b[0m\n",
      "\u001b[0;32m~/.local/lib/python3.11/site-packages/pandas/core/frame.py\u001b[0m in \u001b[0;36m?\u001b[0;34m(self, by, axis, ascending, inplace, kind, na_position, ignore_index, key)\u001b[0m\n\u001b[1;32m   7168\u001b[0m                 \u001b[0;34mf\"Length of ascending ({len(ascending)})\"\u001b[0m  \u001b[0;31m# type: ignore[arg-type]\u001b[0m\u001b[0;34m\u001b[0m\u001b[0;34m\u001b[0m\u001b[0m\n\u001b[1;32m   7169\u001b[0m                 \u001b[0;34mf\" != length of by ({len(by)})\"\u001b[0m\u001b[0;34m\u001b[0m\u001b[0;34m\u001b[0m\u001b[0m\n\u001b[1;32m   7170\u001b[0m             )\n\u001b[1;32m   7171\u001b[0m         \u001b[0;32mif\u001b[0m \u001b[0mlen\u001b[0m\u001b[0;34m(\u001b[0m\u001b[0mby\u001b[0m\u001b[0;34m)\u001b[0m \u001b[0;34m>\u001b[0m \u001b[0;36m1\u001b[0m\u001b[0;34m:\u001b[0m\u001b[0;34m\u001b[0m\u001b[0;34m\u001b[0m\u001b[0m\n\u001b[0;32m-> 7172\u001b[0;31m             \u001b[0mkeys\u001b[0m \u001b[0;34m=\u001b[0m \u001b[0;34m[\u001b[0m\u001b[0mself\u001b[0m\u001b[0;34m.\u001b[0m\u001b[0m_get_label_or_level_values\u001b[0m\u001b[0;34m(\u001b[0m\u001b[0mx\u001b[0m\u001b[0;34m,\u001b[0m \u001b[0maxis\u001b[0m\u001b[0;34m=\u001b[0m\u001b[0maxis\u001b[0m\u001b[0;34m)\u001b[0m \u001b[0;32mfor\u001b[0m \u001b[0mx\u001b[0m \u001b[0;32min\u001b[0m \u001b[0mby\u001b[0m\u001b[0;34m]\u001b[0m\u001b[0;34m\u001b[0m\u001b[0;34m\u001b[0m\u001b[0m\n\u001b[0m\u001b[1;32m   7173\u001b[0m \u001b[0;34m\u001b[0m\u001b[0m\n\u001b[1;32m   7174\u001b[0m             \u001b[0;31m# need to rewrap columns in Series to apply key function\u001b[0m\u001b[0;34m\u001b[0m\u001b[0;34m\u001b[0m\u001b[0m\n\u001b[1;32m   7175\u001b[0m             \u001b[0;32mif\u001b[0m \u001b[0mkey\u001b[0m \u001b[0;32mis\u001b[0m \u001b[0;32mnot\u001b[0m \u001b[0;32mNone\u001b[0m\u001b[0;34m:\u001b[0m\u001b[0;34m\u001b[0m\u001b[0;34m\u001b[0m\u001b[0m\n",
      "\u001b[0;32m~/.local/lib/python3.11/site-packages/pandas/core/frame.py\u001b[0m in \u001b[0;36m?\u001b[0;34m(.0)\u001b[0m\n\u001b[0;32m-> 7172\u001b[0;31m         \u001b[0;34m...\u001b[0m     \u001b[0mkey\u001b[0m\u001b[0;34m=\u001b[0m\u001b[0;32mlambda\u001b[0m \u001b[0mx\u001b[0m\u001b[0;34m:\u001b[0m \u001b[0mnp\u001b[0m\u001b[0;34m.\u001b[0m\u001b[0margsort\u001b[0m\u001b[0;34m(\u001b[0m\u001b[0mindex_natsorted\u001b[0m\u001b[0;34m(\u001b[0m\u001b[0mdf\u001b[0m\u001b[0;34m[\u001b[0m\u001b[0;34m\"time\"\u001b[0m\u001b[0;34m]\u001b[0m\u001b[0;34m)\u001b[0m\u001b[0;34m)\u001b[0m\u001b[0;34m\u001b[0m\u001b[0;34m\u001b[0m\u001b[0m\n\u001b[0m",
      "\u001b[0;32m~/.local/lib/python3.11/site-packages/pandas/core/generic.py\u001b[0m in \u001b[0;36m?\u001b[0;34m(self, key, axis)\u001b[0m\n\u001b[1;32m   1907\u001b[0m             \u001b[0mvalues\u001b[0m \u001b[0;34m=\u001b[0m \u001b[0mself\u001b[0m\u001b[0;34m.\u001b[0m\u001b[0mxs\u001b[0m\u001b[0;34m(\u001b[0m\u001b[0mkey\u001b[0m\u001b[0;34m,\u001b[0m \u001b[0maxis\u001b[0m\u001b[0;34m=\u001b[0m\u001b[0mother_axes\u001b[0m\u001b[0;34m[\u001b[0m\u001b[0;36m0\u001b[0m\u001b[0;34m]\u001b[0m\u001b[0;34m)\u001b[0m\u001b[0;34m.\u001b[0m\u001b[0m_values\u001b[0m\u001b[0;34m\u001b[0m\u001b[0;34m\u001b[0m\u001b[0m\n\u001b[1;32m   1908\u001b[0m         \u001b[0;32melif\u001b[0m \u001b[0mself\u001b[0m\u001b[0;34m.\u001b[0m\u001b[0m_is_level_reference\u001b[0m\u001b[0;34m(\u001b[0m\u001b[0mkey\u001b[0m\u001b[0;34m,\u001b[0m \u001b[0maxis\u001b[0m\u001b[0;34m=\u001b[0m\u001b[0maxis\u001b[0m\u001b[0;34m)\u001b[0m\u001b[0;34m:\u001b[0m\u001b[0;34m\u001b[0m\u001b[0;34m\u001b[0m\u001b[0m\n\u001b[1;32m   1909\u001b[0m             \u001b[0mvalues\u001b[0m \u001b[0;34m=\u001b[0m \u001b[0mself\u001b[0m\u001b[0;34m.\u001b[0m\u001b[0maxes\u001b[0m\u001b[0;34m[\u001b[0m\u001b[0maxis\u001b[0m\u001b[0;34m]\u001b[0m\u001b[0;34m.\u001b[0m\u001b[0mget_level_values\u001b[0m\u001b[0;34m(\u001b[0m\u001b[0mkey\u001b[0m\u001b[0;34m)\u001b[0m\u001b[0;34m.\u001b[0m\u001b[0m_values\u001b[0m\u001b[0;34m\u001b[0m\u001b[0;34m\u001b[0m\u001b[0m\n\u001b[1;32m   1910\u001b[0m         \u001b[0;32melse\u001b[0m\u001b[0;34m:\u001b[0m\u001b[0;34m\u001b[0m\u001b[0;34m\u001b[0m\u001b[0m\n\u001b[0;32m-> 1911\u001b[0;31m             \u001b[0;32mraise\u001b[0m \u001b[0mKeyError\u001b[0m\u001b[0;34m(\u001b[0m\u001b[0mkey\u001b[0m\u001b[0;34m)\u001b[0m\u001b[0;34m\u001b[0m\u001b[0;34m\u001b[0m\u001b[0m\n\u001b[0m\u001b[1;32m   1912\u001b[0m \u001b[0;34m\u001b[0m\u001b[0m\n\u001b[1;32m   1913\u001b[0m         \u001b[0;31m# Check for duplicates\u001b[0m\u001b[0;34m\u001b[0m\u001b[0;34m\u001b[0m\u001b[0m\n\u001b[1;32m   1914\u001b[0m         \u001b[0;32mif\u001b[0m \u001b[0mvalues\u001b[0m\u001b[0;34m.\u001b[0m\u001b[0mndim\u001b[0m \u001b[0;34m>\u001b[0m \u001b[0;36m1\u001b[0m\u001b[0;34m:\u001b[0m\u001b[0;34m\u001b[0m\u001b[0;34m\u001b[0m\u001b[0m\n",
      "\u001b[0;31mKeyError\u001b[0m: 'price'"
     ]
    }
   ],
   "source": [
    "# Create a pivot table with mean values per municipality\n",
    "pivot_table_municipality = pd.pivot_table(df3,\n",
    "                                          index='bfs_name',\n",
    "                                          values=['rooms', 'area', 'price', 'price_per_m2'],\n",
    "                                          aggfunc=np.mean)\n",
    "\n",
    "# Sort the pivot table by price and area with the most expensive municipalities on top\n",
    "pivot_table_municipality = pivot_table_municipality.sort_values(by=['price', 'area'], ascending=False)\n",
    "\n",
    "# Display the pivot table\n",
    "pivot_table_municipality.head()"
   ]
  },
  {
   "cell_type": "markdown",
   "id": "9cec2fdf",
   "metadata": {},
   "source": [
    "### Jupyter notebook --footer info-- (please always provide this at the end of each submitted notebook)"
   ]
  },
  {
   "cell_type": "code",
   "execution_count": 13,
   "id": "1ae752a7",
   "metadata": {},
   "outputs": [
    {
     "name": "stdout",
     "output_type": "stream",
     "text": [
      "-----------------------------------\n",
      "POSIX\n",
      "Linux | 6.5.0-1025-azure\n",
      "Datetime: 2024-10-08 11:33:57\n",
      "Python Version: 3.11.10\n",
      "-----------------------------------\n"
     ]
    }
   ],
   "source": [
    "import os\n",
    "import platform\n",
    "import socket\n",
    "from platform import python_version\n",
    "from datetime import datetime\n",
    "\n",
    "print('-----------------------------------')\n",
    "print(os.name.upper())\n",
    "print(platform.system(), '|', platform.release())\n",
    "print('Datetime:', datetime.now().strftime(\"%Y-%m-%d %H:%M:%S\"))\n",
    "print('Python Version:', python_version())\n",
    "print('-----------------------------------')"
   ]
  }
 ],
 "metadata": {
  "kernelspec": {
   "display_name": "Python 3",
   "language": "python",
   "name": "python3"
  },
  "language_info": {
   "codemirror_mode": {
    "name": "ipython",
    "version": 3
   },
   "file_extension": ".py",
   "mimetype": "text/x-python",
   "name": "python",
   "nbconvert_exporter": "python",
   "pygments_lexer": "ipython3",
   "version": "3.11.10"
  }
 },
 "nbformat": 4,
 "nbformat_minor": 5
}
